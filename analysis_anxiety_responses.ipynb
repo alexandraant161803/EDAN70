{
 "cells": [
  {
   "cell_type": "markdown",
   "metadata": {},
   "source": [
    "### Important variables \n",
    "\n",
    "Deptext = Depression text-response <br> \n",
    "Wortext = Worry text-response\n",
    "\n",
    "dep_all_phraces = Depression all phraces responses <br> \n",
    "wor_all_phraces = Worry all phraces responses\n",
    "\n",
    "dep_all_word = Depression all descriptive word responses <br>\n",
    "wor_all_words = Worry all descriptive word responses\n",
    "\n",
    "dep_all_selected1 = All selected depression word responses <br>\n",
    "wor_all_selected1 = All selected worry word responses\n",
    "\n",
    "<hr style=\"border:1px solid gray\"> </hr>\n",
    "\n",
    "CESDtot = Center for Epidemiological Studies Depression (CESD) <br>\n",
    "PHQtot = PHQ-9 = Patient Helath Questionnaire = a depression scale\n",
    "\n",
    "GADtot = GAD-7 = Generalized anxiety disorder scale <br>\n",
    "PSWQtot = Penn State Worry Questionniare \n",
    "\n",
    "<hr style=\"border:1px solid gray\"> </hr>\n",
    "\n",
    "miniGAD_diagnose = Self-reported MINI (structured interview) GAD diangose <br>\n",
    "minidep_diagnose = Self-reported MINI (structured interview) MDD (depression) diangose"
   ]
  },
  {
   "cell_type": "markdown",
   "metadata": {},
   "source": [
    "# Importing and cleaning dataset"
   ]
  },
  {
   "cell_type": "code",
   "execution_count": 12,
   "metadata": {},
   "outputs": [],
   "source": [
    "import math\n",
    "import numpy as np\n",
    "import os\n",
    "import pandas as pd\n",
    "import re\n",
    "import nltk\n",
    "from nltk.tokenize import word_tokenize\n",
    "from nltk.corpus import stopwords\n",
    "from nltk.stem import WordNetLemmatizer \n",
    "import matplotlib.pyplot as plt"
   ]
  },
  {
   "cell_type": "code",
   "execution_count": 13,
   "metadata": {},
   "outputs": [
    {
     "name": "stdout",
     "output_type": "stream",
     "text": [
      "976\n"
     ]
    }
   ],
   "source": [
    "#Get relative directory to find path\n",
    "path = os.path.join(os.getcwd(), 'data', 'response_format_cleaned_ds1.csv')\n",
    "responses = pd.read_csv(path, sep=';', header=0)\n",
    "responses.drop(responses.columns[[0]], axis=1, inplace=True)\n",
    "print(len(responses))"
   ]
  },
  {
   "cell_type": "markdown",
   "metadata": {},
   "source": [
    "# Statistics of GAD values in dataset"
   ]
  },
  {
   "cell_type": "code",
   "execution_count": 11,
   "metadata": {},
   "outputs": [
    {
     "data": {
      "text/html": [
       "<div>\n",
       "<style scoped>\n",
       "    .dataframe tbody tr th:only-of-type {\n",
       "        vertical-align: middle;\n",
       "    }\n",
       "\n",
       "    .dataframe tbody tr th {\n",
       "        vertical-align: top;\n",
       "    }\n",
       "\n",
       "    .dataframe thead th {\n",
       "        text-align: right;\n",
       "    }\n",
       "</style>\n",
       "<table border=\"1\" class=\"dataframe\">\n",
       "  <thead>\n",
       "    <tr style=\"text-align: right;\">\n",
       "      <th></th>\n",
       "      <th>GADtot</th>\n",
       "    </tr>\n",
       "  </thead>\n",
       "  <tbody>\n",
       "    <tr>\n",
       "      <th>count</th>\n",
       "      <td>963.000000</td>\n",
       "    </tr>\n",
       "    <tr>\n",
       "      <th>mean</th>\n",
       "      <td>10.099688</td>\n",
       "    </tr>\n",
       "    <tr>\n",
       "      <th>std</th>\n",
       "      <td>6.272604</td>\n",
       "    </tr>\n",
       "    <tr>\n",
       "      <th>min</th>\n",
       "      <td>0.000000</td>\n",
       "    </tr>\n",
       "    <tr>\n",
       "      <th>25%</th>\n",
       "      <td>5.000000</td>\n",
       "    </tr>\n",
       "    <tr>\n",
       "      <th>50%</th>\n",
       "      <td>10.000000</td>\n",
       "    </tr>\n",
       "    <tr>\n",
       "      <th>75%</th>\n",
       "      <td>15.000000</td>\n",
       "    </tr>\n",
       "    <tr>\n",
       "      <th>max</th>\n",
       "      <td>21.000000</td>\n",
       "    </tr>\n",
       "  </tbody>\n",
       "</table>\n",
       "</div>"
      ],
      "text/plain": [
       "           GADtot\n",
       "count  963.000000\n",
       "mean    10.099688\n",
       "std      6.272604\n",
       "min      0.000000\n",
       "25%      5.000000\n",
       "50%     10.000000\n",
       "75%     15.000000\n",
       "max     21.000000"
      ]
     },
     "execution_count": 11,
     "metadata": {},
     "output_type": "execute_result"
    }
   ],
   "source": [
    "responses[['GADtot']].describe()"
   ]
  },
  {
   "cell_type": "code",
   "execution_count": 2,
   "metadata": {},
   "outputs": [
    {
     "name": "stdout",
     "output_type": "stream",
     "text": [
      "976\n"
     ]
    },
    {
     "data": {
      "text/html": [
       "<div>\n",
       "<style scoped>\n",
       "    .dataframe tbody tr th:only-of-type {\n",
       "        vertical-align: middle;\n",
       "    }\n",
       "\n",
       "    .dataframe tbody tr th {\n",
       "        vertical-align: top;\n",
       "    }\n",
       "\n",
       "    .dataframe thead th {\n",
       "        text-align: right;\n",
       "    }\n",
       "</style>\n",
       "<table border=\"1\" class=\"dataframe\">\n",
       "  <thead>\n",
       "    <tr style=\"text-align: right;\">\n",
       "      <th></th>\n",
       "      <th>id</th>\n",
       "      <th>submitdate</th>\n",
       "      <th>lastpage</th>\n",
       "      <th>startlanguage</th>\n",
       "      <th>seed</th>\n",
       "      <th>startdate</th>\n",
       "      <th>datestamp</th>\n",
       "      <th>sequence1</th>\n",
       "      <th>seqOne</th>\n",
       "      <th>Dep5words[Word1]</th>\n",
       "      <th>...</th>\n",
       "      <th>wor_all_selected</th>\n",
       "      <th>wor_all_selected1</th>\n",
       "      <th>minidep_scale</th>\n",
       "      <th>minidep_diagnose</th>\n",
       "      <th>depression_episodes</th>\n",
       "      <th>miniGAD_scale</th>\n",
       "      <th>miniGAD_symptoms_scale</th>\n",
       "      <th>miniGAD_diagnose</th>\n",
       "      <th>minidiagnose_category</th>\n",
       "      <th>minidiagnose_category_number</th>\n",
       "    </tr>\n",
       "  </thead>\n",
       "  <tbody>\n",
       "    <tr>\n",
       "      <th>0</th>\n",
       "      <td>434.0</td>\n",
       "      <td>2020-08-07 11:46:22</td>\n",
       "      <td>15.0</td>\n",
       "      <td>en</td>\n",
       "      <td>6.593644e+08</td>\n",
       "      <td>2020-08-07 11:38:22</td>\n",
       "      <td>2020-08-07 11:46:22</td>\n",
       "      <td>2.0</td>\n",
       "      <td>1.0</td>\n",
       "      <td>motivated</td>\n",
       "      <td>...</td>\n",
       "      <td>NA NA happy NA NA NA NA NA NA NA NA NA NA care...</td>\n",
       "      <td>happy           carefree     satisfied      ...</td>\n",
       "      <td>0.0</td>\n",
       "      <td>0</td>\n",
       "      <td>0</td>\n",
       "      <td>0</td>\n",
       "      <td>0</td>\n",
       "      <td>0</td>\n",
       "      <td>NoDi</td>\n",
       "      <td>0</td>\n",
       "    </tr>\n",
       "    <tr>\n",
       "      <th>1</th>\n",
       "      <td>184.0</td>\n",
       "      <td>2020-08-07 11:58:36</td>\n",
       "      <td>15.0</td>\n",
       "      <td>en</td>\n",
       "      <td>2.803892e+08</td>\n",
       "      <td>2020-08-07 11:34:31</td>\n",
       "      <td>2020-08-07 11:58:36</td>\n",
       "      <td>2.0</td>\n",
       "      <td>1.0</td>\n",
       "      <td>connected</td>\n",
       "      <td>...</td>\n",
       "      <td>anxious NA NA NA NA NA NA NA NA NA NA tense NA...</td>\n",
       "      <td>anxious           tense    fearful  sad     fe...</td>\n",
       "      <td>3.0</td>\n",
       "      <td>0</td>\n",
       "      <td>0</td>\n",
       "      <td>8</td>\n",
       "      <td>5</td>\n",
       "      <td>0</td>\n",
       "      <td>NoDi</td>\n",
       "      <td>0</td>\n",
       "    </tr>\n",
       "    <tr>\n",
       "      <th>2</th>\n",
       "      <td>330.0</td>\n",
       "      <td>2020-08-07 11:51:54</td>\n",
       "      <td>15.0</td>\n",
       "      <td>en</td>\n",
       "      <td>6.770686e+07</td>\n",
       "      <td>2020-08-07 11:36:32</td>\n",
       "      <td>2020-08-07 11:51:54</td>\n",
       "      <td>1.0</td>\n",
       "      <td>1.0</td>\n",
       "      <td>Yes</td>\n",
       "      <td>...</td>\n",
       "      <td>anxious NA NA NA NA NA worried NA NA NA NA NA ...</td>\n",
       "      <td>anxious      worried      scared     sad   mon...</td>\n",
       "      <td>7.0</td>\n",
       "      <td>0</td>\n",
       "      <td>5</td>\n",
       "      <td>9</td>\n",
       "      <td>5</td>\n",
       "      <td>0</td>\n",
       "      <td>NoDi</td>\n",
       "      <td>0</td>\n",
       "    </tr>\n",
       "    <tr>\n",
       "      <th>3</th>\n",
       "      <td>630.0</td>\n",
       "      <td>2020-08-07 13:22:42</td>\n",
       "      <td>15.0</td>\n",
       "      <td>en</td>\n",
       "      <td>1.176643e+09</td>\n",
       "      <td>2020-08-07 12:55:26</td>\n",
       "      <td>2020-08-07 13:22:42</td>\n",
       "      <td>3.0</td>\n",
       "      <td>1.0</td>\n",
       "      <td>minor</td>\n",
       "      <td>...</td>\n",
       "      <td>anxious NA NA NA NA concerned NA NA NA NA NA t...</td>\n",
       "      <td>anxious     concerned      tense scared       ...</td>\n",
       "      <td>3.0</td>\n",
       "      <td>0</td>\n",
       "      <td>5</td>\n",
       "      <td>8</td>\n",
       "      <td>5</td>\n",
       "      <td>0</td>\n",
       "      <td>NoDi</td>\n",
       "      <td>0</td>\n",
       "    </tr>\n",
       "    <tr>\n",
       "      <th>4</th>\n",
       "      <td>400.0</td>\n",
       "      <td>2020-08-07 12:04:52</td>\n",
       "      <td>15.0</td>\n",
       "      <td>en</td>\n",
       "      <td>1.012492e+09</td>\n",
       "      <td>2020-08-07 11:37:19</td>\n",
       "      <td>2020-08-07 12:04:52</td>\n",
       "      <td>1.0</td>\n",
       "      <td>1.0</td>\n",
       "      <td>family</td>\n",
       "      <td>...</td>\n",
       "      <td>NA NA NA NA NA concerned NA NA NA NA NA tense ...</td>\n",
       "      <td>concerned      tense      sad      tired ...</td>\n",
       "      <td>4.0</td>\n",
       "      <td>0</td>\n",
       "      <td>2</td>\n",
       "      <td>7</td>\n",
       "      <td>4</td>\n",
       "      <td>1</td>\n",
       "      <td>GAD</td>\n",
       "      <td>2</td>\n",
       "    </tr>\n",
       "    <tr>\n",
       "      <th>...</th>\n",
       "      <td>...</td>\n",
       "      <td>...</td>\n",
       "      <td>...</td>\n",
       "      <td>...</td>\n",
       "      <td>...</td>\n",
       "      <td>...</td>\n",
       "      <td>...</td>\n",
       "      <td>...</td>\n",
       "      <td>...</td>\n",
       "      <td>...</td>\n",
       "      <td>...</td>\n",
       "      <td>...</td>\n",
       "      <td>...</td>\n",
       "      <td>...</td>\n",
       "      <td>...</td>\n",
       "      <td>...</td>\n",
       "      <td>...</td>\n",
       "      <td>...</td>\n",
       "      <td>...</td>\n",
       "      <td>...</td>\n",
       "      <td>...</td>\n",
       "    </tr>\n",
       "    <tr>\n",
       "      <th>951</th>\n",
       "      <td>32.0</td>\n",
       "      <td>2020-08-07 12:02:58</td>\n",
       "      <td>15.0</td>\n",
       "      <td>en</td>\n",
       "      <td>1.363161e+09</td>\n",
       "      <td>2020-08-07 11:45:11</td>\n",
       "      <td>2020-08-07 12:02:58</td>\n",
       "      <td>3.0</td>\n",
       "      <td>1.0</td>\n",
       "      <td>Worried</td>\n",
       "      <td>...</td>\n",
       "      <td>anxious NA NA NA NA NA NA NA NA NA NA NA scare...</td>\n",
       "      <td>anxious            scared  uneasy fearful     ...</td>\n",
       "      <td>9.0</td>\n",
       "      <td>1</td>\n",
       "      <td>1</td>\n",
       "      <td>0</td>\n",
       "      <td>0</td>\n",
       "      <td>0</td>\n",
       "      <td>Dep</td>\n",
       "      <td>1</td>\n",
       "    </tr>\n",
       "    <tr>\n",
       "      <th>952</th>\n",
       "      <td>344.0</td>\n",
       "      <td>2020-08-07 13:45:57</td>\n",
       "      <td>15.0</td>\n",
       "      <td>en</td>\n",
       "      <td>1.283747e+08</td>\n",
       "      <td>2020-08-07 13:32:04</td>\n",
       "      <td>2020-08-07 13:45:57</td>\n",
       "      <td>3.0</td>\n",
       "      <td>1.0</td>\n",
       "      <td>Tired</td>\n",
       "      <td>...</td>\n",
       "      <td>NA NA NA nervous NA NA worried NA NA NA NA NA ...</td>\n",
       "      <td>nervous   worried             stress  anxie...</td>\n",
       "      <td>7.0</td>\n",
       "      <td>1</td>\n",
       "      <td>7</td>\n",
       "      <td>11</td>\n",
       "      <td>6</td>\n",
       "      <td>1</td>\n",
       "      <td>BOTH</td>\n",
       "      <td>3</td>\n",
       "    </tr>\n",
       "    <tr>\n",
       "      <th>953</th>\n",
       "      <td>297.0</td>\n",
       "      <td>2020-08-07 13:11:46</td>\n",
       "      <td>15.0</td>\n",
       "      <td>en</td>\n",
       "      <td>9.695994e+08</td>\n",
       "      <td>2020-08-07 12:52:04</td>\n",
       "      <td>2020-08-07 13:11:46</td>\n",
       "      <td>3.0</td>\n",
       "      <td>1.0</td>\n",
       "      <td>Unsettled</td>\n",
       "      <td>...</td>\n",
       "      <td>NA NA NA NA NA NA NA NA stressed NA NA NA scar...</td>\n",
       "      <td>stressed    scared   fearful      anxi...</td>\n",
       "      <td>7.0</td>\n",
       "      <td>1</td>\n",
       "      <td>2</td>\n",
       "      <td>10</td>\n",
       "      <td>5</td>\n",
       "      <td>1</td>\n",
       "      <td>BOTH</td>\n",
       "      <td>3</td>\n",
       "    </tr>\n",
       "    <tr>\n",
       "      <th>954</th>\n",
       "      <td>241.0</td>\n",
       "      <td>2020-08-07 12:51:07</td>\n",
       "      <td>15.0</td>\n",
       "      <td>en</td>\n",
       "      <td>1.976520e+09</td>\n",
       "      <td>2020-08-07 12:28:54</td>\n",
       "      <td>2020-08-07 12:51:07</td>\n",
       "      <td>2.0</td>\n",
       "      <td>1.0</td>\n",
       "      <td>Despair</td>\n",
       "      <td>...</td>\n",
       "      <td>anxious NA NA NA NA NA worried NA stressed NA ...</td>\n",
       "      <td>anxious      worried  stressed      uneasy    ...</td>\n",
       "      <td>8.0</td>\n",
       "      <td>1</td>\n",
       "      <td>1</td>\n",
       "      <td>11</td>\n",
       "      <td>6</td>\n",
       "      <td>1</td>\n",
       "      <td>BOTH</td>\n",
       "      <td>3</td>\n",
       "    </tr>\n",
       "    <tr>\n",
       "      <th>955</th>\n",
       "      <td>350.0</td>\n",
       "      <td>2020-08-10 14:20:21</td>\n",
       "      <td>15.0</td>\n",
       "      <td>en</td>\n",
       "      <td>1.631209e+09</td>\n",
       "      <td>2020-08-10 14:11:02</td>\n",
       "      <td>2020-08-10 14:20:21</td>\n",
       "      <td>3.0</td>\n",
       "      <td>1.0</td>\n",
       "      <td>Worried</td>\n",
       "      <td>...</td>\n",
       "      <td>NA NA NA nervous NA NA NA NA NA NA NA tense NA...</td>\n",
       "      <td>nervous        tense   uneasy     stress  a...</td>\n",
       "      <td>7.0</td>\n",
       "      <td>0</td>\n",
       "      <td>3</td>\n",
       "      <td>9</td>\n",
       "      <td>6</td>\n",
       "      <td>1</td>\n",
       "      <td>GAD</td>\n",
       "      <td>2</td>\n",
       "    </tr>\n",
       "  </tbody>\n",
       "</table>\n",
       "<p>956 rows × 407 columns</p>\n",
       "</div>"
      ],
      "text/plain": [
       "        id           submitdate  lastpage startlanguage          seed  \\\n",
       "0    434.0  2020-08-07 11:46:22      15.0            en  6.593644e+08   \n",
       "1    184.0  2020-08-07 11:58:36      15.0            en  2.803892e+08   \n",
       "2    330.0  2020-08-07 11:51:54      15.0            en  6.770686e+07   \n",
       "3    630.0  2020-08-07 13:22:42      15.0            en  1.176643e+09   \n",
       "4    400.0  2020-08-07 12:04:52      15.0            en  1.012492e+09   \n",
       "..     ...                  ...       ...           ...           ...   \n",
       "951   32.0  2020-08-07 12:02:58      15.0            en  1.363161e+09   \n",
       "952  344.0  2020-08-07 13:45:57      15.0            en  1.283747e+08   \n",
       "953  297.0  2020-08-07 13:11:46      15.0            en  9.695994e+08   \n",
       "954  241.0  2020-08-07 12:51:07      15.0            en  1.976520e+09   \n",
       "955  350.0  2020-08-10 14:20:21      15.0            en  1.631209e+09   \n",
       "\n",
       "               startdate            datestamp  sequence1  seqOne  \\\n",
       "0    2020-08-07 11:38:22  2020-08-07 11:46:22        2.0     1.0   \n",
       "1    2020-08-07 11:34:31  2020-08-07 11:58:36        2.0     1.0   \n",
       "2    2020-08-07 11:36:32  2020-08-07 11:51:54        1.0     1.0   \n",
       "3    2020-08-07 12:55:26  2020-08-07 13:22:42        3.0     1.0   \n",
       "4    2020-08-07 11:37:19  2020-08-07 12:04:52        1.0     1.0   \n",
       "..                   ...                  ...        ...     ...   \n",
       "951  2020-08-07 11:45:11  2020-08-07 12:02:58        3.0     1.0   \n",
       "952  2020-08-07 13:32:04  2020-08-07 13:45:57        3.0     1.0   \n",
       "953  2020-08-07 12:52:04  2020-08-07 13:11:46        3.0     1.0   \n",
       "954  2020-08-07 12:28:54  2020-08-07 12:51:07        2.0     1.0   \n",
       "955  2020-08-10 14:11:02  2020-08-10 14:20:21        3.0     1.0   \n",
       "\n",
       "    Dep5words[Word1]  ...                                   wor_all_selected  \\\n",
       "0          motivated  ...  NA NA happy NA NA NA NA NA NA NA NA NA NA care...   \n",
       "1          connected  ...  anxious NA NA NA NA NA NA NA NA NA NA tense NA...   \n",
       "2                Yes  ...  anxious NA NA NA NA NA worried NA NA NA NA NA ...   \n",
       "3              minor  ...  anxious NA NA NA NA concerned NA NA NA NA NA t...   \n",
       "4             family  ...  NA NA NA NA NA concerned NA NA NA NA NA tense ...   \n",
       "..               ...  ...                                                ...   \n",
       "951          Worried  ...  anxious NA NA NA NA NA NA NA NA NA NA NA scare...   \n",
       "952            Tired  ...  NA NA NA nervous NA NA worried NA NA NA NA NA ...   \n",
       "953        Unsettled  ...  NA NA NA NA NA NA NA NA stressed NA NA NA scar...   \n",
       "954          Despair  ...  anxious NA NA NA NA NA worried NA stressed NA ...   \n",
       "955          Worried  ...  NA NA NA nervous NA NA NA NA NA NA NA tense NA...   \n",
       "\n",
       "                                     wor_all_selected1 minidep_scale  \\\n",
       "0      happy           carefree     satisfied      ...           0.0   \n",
       "1    anxious           tense    fearful  sad     fe...           3.0   \n",
       "2    anxious      worried      scared     sad   mon...           7.0   \n",
       "3    anxious     concerned      tense scared       ...           3.0   \n",
       "4         concerned      tense      sad      tired ...           4.0   \n",
       "..                                                 ...           ...   \n",
       "951  anxious            scared  uneasy fearful     ...           9.0   \n",
       "952     nervous   worried             stress  anxie...           7.0   \n",
       "953          stressed    scared   fearful      anxi...           7.0   \n",
       "954  anxious      worried  stressed      uneasy    ...           8.0   \n",
       "955     nervous        tense   uneasy     stress  a...           7.0   \n",
       "\n",
       "    minidep_diagnose depression_episodes miniGAD_scale miniGAD_symptoms_scale  \\\n",
       "0                  0                   0             0                      0   \n",
       "1                  0                   0             8                      5   \n",
       "2                  0                   5             9                      5   \n",
       "3                  0                   5             8                      5   \n",
       "4                  0                   2             7                      4   \n",
       "..               ...                 ...           ...                    ...   \n",
       "951                1                   1             0                      0   \n",
       "952                1                   7            11                      6   \n",
       "953                1                   2            10                      5   \n",
       "954                1                   1            11                      6   \n",
       "955                0                   3             9                      6   \n",
       "\n",
       "    miniGAD_diagnose minidiagnose_category  minidiagnose_category_number  \n",
       "0                  0                  NoDi                             0  \n",
       "1                  0                  NoDi                             0  \n",
       "2                  0                  NoDi                             0  \n",
       "3                  0                  NoDi                             0  \n",
       "4                  1                   GAD                             2  \n",
       "..               ...                   ...                           ...  \n",
       "951                0                   Dep                             1  \n",
       "952                1                  BOTH                             3  \n",
       "953                1                  BOTH                             3  \n",
       "954                1                  BOTH                             3  \n",
       "955                1                   GAD                             2  \n",
       "\n",
       "[956 rows x 407 columns]"
      ]
     },
     "execution_count": 2,
     "metadata": {},
     "output_type": "execute_result"
    }
   ],
   "source": [
    "# Drop rows with NA values in 'dep_all_words' column\n",
    "responses = responses[~responses.wor_all_words.str.contains(\"NA NA NA NA NA\")]\n",
    "responses = responses[~responses.wor_all_selected1.str.contains(\"NA NA NA NA NA\")]\n",
    "responses = responses[~responses.wor_all_phraces.str.contains(\"NA NA NA NA NA\")]\n",
    "responses = responses.reset_index(drop=True)\n",
    "responses.dropna(subset=['Wortext'], inplace=True)\n",
    "responses = responses.reset_index(drop=True)\n",
    "\n",
    "responses"
   ]
  },
  {
   "cell_type": "code",
   "execution_count": 14,
   "metadata": {},
   "outputs": [],
   "source": [
    "def reclass_scale(num_array):\n",
    "    def new_class(num):\n",
    "        if 0 <= num <= 5: return 0\n",
    "        elif 6 <= num <= 10: return 1 \n",
    "        elif 11 <= num <= 15: return 2\n",
    "        else: return 3\n",
    "        \n",
    "    return np.array([new_class(x) for x in num_array])"
   ]
  },
  {
   "cell_type": "code",
   "execution_count": 15,
   "metadata": {},
   "outputs": [],
   "source": [
    "responses['GAD_class'] = reclass_scale(responses.GADtot.values)"
   ]
  },
  {
   "cell_type": "markdown",
   "metadata": {},
   "source": [
    "### Dataset distribution for different classes of PHQ9 scale"
   ]
  },
  {
   "cell_type": "code",
   "execution_count": 16,
   "metadata": {},
   "outputs": [
    {
     "name": "stdout",
     "output_type": "stream",
     "text": [
      "Count responses with/without diagnosed anxiety:\n",
      " 2    262\n",
      "0    260\n",
      "3    229\n",
      "1    225\n",
      "Name: GAD_class, dtype: int64\n"
     ]
    }
   ],
   "source": [
    "print(\"Count responses with/without diagnosed anxiety:\\n\",responses.GAD_class.value_counts())\n",
    "#print(\"\\nCount responses with/without diagnosed anxiety:\\n\",responses.miniGAD_diagnose.value_counts())"
   ]
  },
  {
   "cell_type": "markdown",
   "metadata": {},
   "source": [
    "## Importing and cleaning semantic space "
   ]
  },
  {
   "cell_type": "code",
   "execution_count": 17,
   "metadata": {},
   "outputs": [],
   "source": [
    "\"\"\"\n",
    "Using 5-gram contexts from the database, a co-occurrence (word by word) matrix was set up, \n",
    "where the rows contained the 120,000 most common words in the n-gram database and the columns \n",
    "consisted of the 10,000 most common words in the n-gram database.\n",
    "\n",
    "The variable 'space' is a matrix of the semantic space with dimentions reduced to 512.\n",
    "\"\"\"\n",
    "path = os.path.join(os.getcwd(), 'data', 'spaceEnglish1.csv')\n",
    "space = pd.read_csv(path, encoding= 'unicode_escape')\n",
    "space.set_index('words', inplace=True)\n",
    "space.drop(space.columns[[0]], axis=1, inplace=True)\n",
    "space.dropna(inplace=True)\n",
    "space = space[~space.index.duplicated(keep='first')]"
   ]
  },
  {
   "cell_type": "code",
   "execution_count": 21,
   "metadata": {},
   "outputs": [
    {
     "data": {
      "text/html": [
       "<div>\n",
       "<style scoped>\n",
       "    .dataframe tbody tr th:only-of-type {\n",
       "        vertical-align: middle;\n",
       "    }\n",
       "\n",
       "    .dataframe tbody tr th {\n",
       "        vertical-align: top;\n",
       "    }\n",
       "\n",
       "    .dataframe thead th {\n",
       "        text-align: right;\n",
       "    }\n",
       "</style>\n",
       "<table border=\"1\" class=\"dataframe\">\n",
       "  <thead>\n",
       "    <tr style=\"text-align: right;\">\n",
       "      <th></th>\n",
       "      <th>X1</th>\n",
       "      <th>X2</th>\n",
       "      <th>X3</th>\n",
       "      <th>X4</th>\n",
       "      <th>X5</th>\n",
       "      <th>X6</th>\n",
       "      <th>X7</th>\n",
       "      <th>X8</th>\n",
       "      <th>X9</th>\n",
       "      <th>X10</th>\n",
       "      <th>...</th>\n",
       "      <th>X503</th>\n",
       "      <th>X504</th>\n",
       "      <th>X505</th>\n",
       "      <th>X506</th>\n",
       "      <th>X507</th>\n",
       "      <th>X508</th>\n",
       "      <th>X509</th>\n",
       "      <th>X510</th>\n",
       "      <th>X511</th>\n",
       "      <th>X512</th>\n",
       "    </tr>\n",
       "    <tr>\n",
       "      <th>words</th>\n",
       "      <th></th>\n",
       "      <th></th>\n",
       "      <th></th>\n",
       "      <th></th>\n",
       "      <th></th>\n",
       "      <th></th>\n",
       "      <th></th>\n",
       "      <th></th>\n",
       "      <th></th>\n",
       "      <th></th>\n",
       "      <th></th>\n",
       "      <th></th>\n",
       "      <th></th>\n",
       "      <th></th>\n",
       "      <th></th>\n",
       "      <th></th>\n",
       "      <th></th>\n",
       "      <th></th>\n",
       "      <th></th>\n",
       "      <th></th>\n",
       "      <th></th>\n",
       "    </tr>\n",
       "  </thead>\n",
       "  <tbody>\n",
       "    <tr>\n",
       "      <th>was</th>\n",
       "      <td>-0.234071</td>\n",
       "      <td>-0.278211</td>\n",
       "      <td>-0.100658</td>\n",
       "      <td>-0.269570</td>\n",
       "      <td>-0.115498</td>\n",
       "      <td>-0.000038</td>\n",
       "      <td>-0.036835</td>\n",
       "      <td>0.024037</td>\n",
       "      <td>-0.003974</td>\n",
       "      <td>0.006582</td>\n",
       "      <td>...</td>\n",
       "      <td>-0.011414</td>\n",
       "      <td>0.018075</td>\n",
       "      <td>-0.020312</td>\n",
       "      <td>0.001287</td>\n",
       "      <td>0.024483</td>\n",
       "      <td>0.012867</td>\n",
       "      <td>0.021265</td>\n",
       "      <td>0.016368</td>\n",
       "      <td>0.024858</td>\n",
       "      <td>-0.020382</td>\n",
       "    </tr>\n",
       "    <tr>\n",
       "      <th>not</th>\n",
       "      <td>-0.283230</td>\n",
       "      <td>-0.338776</td>\n",
       "      <td>-0.141085</td>\n",
       "      <td>-0.243715</td>\n",
       "      <td>-0.236692</td>\n",
       "      <td>-0.033354</td>\n",
       "      <td>-0.099906</td>\n",
       "      <td>0.053253</td>\n",
       "      <td>-0.025582</td>\n",
       "      <td>-0.040372</td>\n",
       "      <td>...</td>\n",
       "      <td>-0.028472</td>\n",
       "      <td>0.048824</td>\n",
       "      <td>-0.025452</td>\n",
       "      <td>0.007828</td>\n",
       "      <td>0.027658</td>\n",
       "      <td>-0.022135</td>\n",
       "      <td>0.023037</td>\n",
       "      <td>0.005371</td>\n",
       "      <td>-0.001482</td>\n",
       "      <td>-0.024063</td>\n",
       "    </tr>\n",
       "    <tr>\n",
       "      <th>by</th>\n",
       "      <td>-0.251058</td>\n",
       "      <td>-0.327183</td>\n",
       "      <td>-0.203889</td>\n",
       "      <td>-0.283337</td>\n",
       "      <td>-0.124522</td>\n",
       "      <td>-0.006537</td>\n",
       "      <td>0.015371</td>\n",
       "      <td>0.131667</td>\n",
       "      <td>-0.130597</td>\n",
       "      <td>0.055605</td>\n",
       "      <td>...</td>\n",
       "      <td>-0.001550</td>\n",
       "      <td>0.027915</td>\n",
       "      <td>-0.012646</td>\n",
       "      <td>-0.005019</td>\n",
       "      <td>0.075544</td>\n",
       "      <td>0.014663</td>\n",
       "      <td>0.013489</td>\n",
       "      <td>-0.022636</td>\n",
       "      <td>0.010127</td>\n",
       "      <td>-0.027951</td>\n",
       "    </tr>\n",
       "    <tr>\n",
       "      <th>that</th>\n",
       "      <td>-0.281888</td>\n",
       "      <td>-0.346746</td>\n",
       "      <td>-0.171006</td>\n",
       "      <td>-0.266698</td>\n",
       "      <td>-0.208917</td>\n",
       "      <td>-0.019832</td>\n",
       "      <td>-0.035404</td>\n",
       "      <td>0.044301</td>\n",
       "      <td>-0.076601</td>\n",
       "      <td>0.021328</td>\n",
       "      <td>...</td>\n",
       "      <td>0.019319</td>\n",
       "      <td>0.042742</td>\n",
       "      <td>0.001747</td>\n",
       "      <td>0.019198</td>\n",
       "      <td>0.022598</td>\n",
       "      <td>0.034352</td>\n",
       "      <td>0.033282</td>\n",
       "      <td>-0.006843</td>\n",
       "      <td>0.027052</td>\n",
       "      <td>-0.013623</td>\n",
       "    </tr>\n",
       "    <tr>\n",
       "      <th>of</th>\n",
       "      <td>-0.256530</td>\n",
       "      <td>-0.335434</td>\n",
       "      <td>-0.229791</td>\n",
       "      <td>-0.256070</td>\n",
       "      <td>-0.120020</td>\n",
       "      <td>0.017080</td>\n",
       "      <td>0.078004</td>\n",
       "      <td>0.112134</td>\n",
       "      <td>-0.073805</td>\n",
       "      <td>0.098183</td>\n",
       "      <td>...</td>\n",
       "      <td>0.012012</td>\n",
       "      <td>0.005470</td>\n",
       "      <td>-0.022383</td>\n",
       "      <td>-0.042172</td>\n",
       "      <td>-0.003430</td>\n",
       "      <td>-0.013435</td>\n",
       "      <td>0.003697</td>\n",
       "      <td>-0.022769</td>\n",
       "      <td>0.024873</td>\n",
       "      <td>0.010061</td>\n",
       "    </tr>\n",
       "  </tbody>\n",
       "</table>\n",
       "<p>5 rows × 512 columns</p>\n",
       "</div>"
      ],
      "text/plain": [
       "             X1        X2        X3        X4        X5        X6        X7  \\\n",
       "words                                                                         \n",
       "was   -0.234071 -0.278211 -0.100658 -0.269570 -0.115498 -0.000038 -0.036835   \n",
       "not   -0.283230 -0.338776 -0.141085 -0.243715 -0.236692 -0.033354 -0.099906   \n",
       "by    -0.251058 -0.327183 -0.203889 -0.283337 -0.124522 -0.006537  0.015371   \n",
       "that  -0.281888 -0.346746 -0.171006 -0.266698 -0.208917 -0.019832 -0.035404   \n",
       "of    -0.256530 -0.335434 -0.229791 -0.256070 -0.120020  0.017080  0.078004   \n",
       "\n",
       "             X8        X9       X10  ...      X503      X504      X505  \\\n",
       "words                                ...                                 \n",
       "was    0.024037 -0.003974  0.006582  ... -0.011414  0.018075 -0.020312   \n",
       "not    0.053253 -0.025582 -0.040372  ... -0.028472  0.048824 -0.025452   \n",
       "by     0.131667 -0.130597  0.055605  ... -0.001550  0.027915 -0.012646   \n",
       "that   0.044301 -0.076601  0.021328  ...  0.019319  0.042742  0.001747   \n",
       "of     0.112134 -0.073805  0.098183  ...  0.012012  0.005470 -0.022383   \n",
       "\n",
       "           X506      X507      X508      X509      X510      X511      X512  \n",
       "words                                                                        \n",
       "was    0.001287  0.024483  0.012867  0.021265  0.016368  0.024858 -0.020382  \n",
       "not    0.007828  0.027658 -0.022135  0.023037  0.005371 -0.001482 -0.024063  \n",
       "by    -0.005019  0.075544  0.014663  0.013489 -0.022636  0.010127 -0.027951  \n",
       "that   0.019198  0.022598  0.034352  0.033282 -0.006843  0.027052 -0.013623  \n",
       "of    -0.042172 -0.003430 -0.013435  0.003697 -0.022769  0.024873  0.010061  \n",
       "\n",
       "[5 rows x 512 columns]"
      ]
     },
     "execution_count": 21,
     "metadata": {},
     "output_type": "execute_result"
    }
   ],
   "source": [
    "space.head()"
   ]
  },
  {
   "cell_type": "markdown",
   "metadata": {},
   "source": [
    "### Methods for cleaning and aggregating semantic responses"
   ]
  },
  {
   "cell_type": "code",
   "execution_count": 22,
   "metadata": {},
   "outputs": [],
   "source": [
    "\"\"\"\n",
    "Cleans the string from punctuations and removes all words which are not represented in the semantic space. \n",
    "\"\"\"\n",
    "words_in_space = set(space.index.values)\n",
    "stop_words = set(stopwords.words('english'))\n",
    "lemmatizer = WordNetLemmatizer()\n",
    "\n",
    "def clean_text(text):\n",
    "    if isinstance(text, str):\n",
    "        try:\n",
    "            tokens = word_tokenize(text)\n",
    "            words = [lemmatizer.lemmatize(w.lower()) for w in tokens if w.isalpha()]\n",
    "            words = [w for w in words if not w in stop_words] #Uncomment if stop words should be excluded\n",
    "            cleaned_words = [w for w in words if w in words_in_space] # TODO: Hantera ord som inte finns i spacet. Nu ignoreras dem.\n",
    "            return cleaned_words\n",
    "        except Exception as e: \n",
    "            print(e)\n",
    "    elif math.isnan(text):\n",
    "        return []"
   ]
  },
  {
   "cell_type": "code",
   "execution_count": 23,
   "metadata": {},
   "outputs": [],
   "source": [
    "\"\"\"\n",
    "Controlling for artifacts relating to frequently occurring words.\n",
    "\n",
    "1) Calculate, from Google N-gram, a frequency weighted average of all semantic representations in the space.\n",
    "   (So that the weighting is proportional to how frequently the words occur in Google N-gram.)\n",
    "2) Subtract this mean prior to aggregating each word, and then add to the final value.\n",
    "\"\"\"\n",
    "space_mean = pd.Series.to_numpy(space.mean())\n",
    "\n",
    "def aggregating_words(responses):\n",
    "    res_arr = np.zeros(512)\n",
    "    \n",
    "    for word in responses:\n",
    "        word_arr = pd.Series.to_numpy(space.loc[word])\n",
    "        res_arr = res_arr + (word_arr - space_mean)\n",
    "    \n",
    "    res_arr += space_mean    \n",
    "    res_arr = res_arr / res_arr.sum() # Normalizing aggregated vector\n",
    "    return res_arr"
   ]
  },
  {
   "cell_type": "code",
   "execution_count": 24,
   "metadata": {},
   "outputs": [],
   "source": [
    "def aggregate_cell(text):\n",
    "    words_in_cell = pd.Series.apply(text, clean_text)\n",
    "    cell_vectors = pd.Series.apply(words_in_cell, aggregating_words)\n",
    "    return cell_vectors"
   ]
  },
  {
   "cell_type": "markdown",
   "metadata": {},
   "source": [
    "# Creating semantic embeddings using BERT"
   ]
  },
  {
   "cell_type": "code",
   "execution_count": 25,
   "metadata": {},
   "outputs": [],
   "source": [
    "import torch\n",
    "import transformers as ppb\n",
    "import warnings\n",
    "warnings.filterwarnings('ignore')"
   ]
  },
  {
   "cell_type": "code",
   "execution_count": 26,
   "metadata": {},
   "outputs": [],
   "source": [
    "model_class, tokenizer_class, pretrained_weights = (ppb.BertModel, ppb.BertTokenizer, 'bert-large-uncased')\n",
    "\n",
    "# Load pretrained model/tokenizer\n",
    "tokenizer = tokenizer_class.from_pretrained(pretrained_weights)\n",
    "bert_model = model_class.from_pretrained(pretrained_weights)"
   ]
  },
  {
   "cell_type": "code",
   "execution_count": 27,
   "metadata": {},
   "outputs": [],
   "source": [
    "def get_words_embedding(word_list):    \n",
    "    \n",
    "    batch = tokenizer(word_list.split(), padding=True, truncation=True, return_tensors=\"pt\")\n",
    "    \n",
    "    with torch.no_grad():\n",
    "        last_hidden_states = bert_model(batch['input_ids'], attention_mask=batch['attention_mask'])\n",
    "    features = last_hidden_states[0][:,0,:]\n",
    "    embeddings_mean = torch.mean(features, dim=0)\n",
    "    \n",
    "    return embeddings_mean.numpy()"
   ]
  },
  {
   "cell_type": "code",
   "execution_count": 28,
   "metadata": {},
   "outputs": [],
   "source": [
    "def get_sentence_embeddings(text):\n",
    "    sentences = [s.strip() for s in text.split('.') if not s == '']\n",
    "    batch = tokenizer(sentences, padding=True, truncation=True, return_tensors=\"pt\")\n",
    "\n",
    "    with torch.no_grad():\n",
    "        last_hidden_states = bert_model(batch['input_ids'], attention_mask=batch['attention_mask'])#input_ids, attention_mask=attention_mask)\n",
    "\n",
    "    features = last_hidden_states[0][:,0,:]\n",
    "    embeddings_mean = torch.mean(features, dim=0)\n",
    "    \n",
    "    return embeddings_mean.numpy()"
   ]
  },
  {
   "cell_type": "markdown",
   "metadata": {},
   "source": [
    "## Create df with embeddings for: text+words, only words or only text"
   ]
  },
  {
   "cell_type": "code",
   "execution_count": 29,
   "metadata": {},
   "outputs": [],
   "source": [
    "from sklearn.model_selection import train_test_split\n",
    "from sklearn.decomposition import PCA, TruncatedSVD\n",
    "from keras.utils.np_utils import to_categorical\n",
    "from sklearn.preprocessing import MinMaxScaler, StandardScaler, normalize\n",
    "import umap"
   ]
  },
  {
   "cell_type": "code",
   "execution_count": 30,
   "metadata": {},
   "outputs": [],
   "source": [
    "def concat_vectors(row):\n",
    "    return np.concatenate(row.values).ravel()\n",
    "\n",
    "def create_aggregated_word_text_df(bert=False):\n",
    "    columns = ['Wortext', 'wor_all_phraces', 'wor_all_words', 'wor_all_selected1']\n",
    "    df_responses = responses[columns]\n",
    "    df_aggregated = df_responses.apply(aggregate_cell, axis=1)\n",
    "\n",
    "    df_concat = pd.DataFrame(normalize(list(df_aggregated.apply(concat_vectors, axis=1)), norm='l2'))\n",
    "    return df_concat"
   ]
  },
  {
   "cell_type": "code",
   "execution_count": 31,
   "metadata": {},
   "outputs": [],
   "source": [
    "def create_bert_word_text_df(text_emb, word_emb):\n",
    "    df_concat = pd.merge(text_emb, word_emb, left_index=True, right_index=True)\n",
    "    df_concat = df_concat.rename(columns={x:y for x,y in zip(df_concat.columns,range(0,len(df_concat.columns)))})\n",
    "    return df_concat"
   ]
  },
  {
   "cell_type": "code",
   "execution_count": 32,
   "metadata": {},
   "outputs": [],
   "source": [
    "def create_aggregated_text_df(bert=False):\n",
    "    text_series = responses[['Wortext']]\n",
    "    if bert:\n",
    "        return pd.DataFrame(list(responses['Wortext'].apply(get_sentence_embeddings)))\n",
    "    else:\n",
    "        aggregated = text_series.apply(aggregate_cell)\n",
    "        return pd.DataFrame(normalize(list(aggregated.apply(concat_vectors, axis=1)), norm='l2'))"
   ]
  },
  {
   "cell_type": "code",
   "execution_count": 33,
   "metadata": {},
   "outputs": [],
   "source": [
    "def create_aggregated_word_df(bert=False):\n",
    "    df_words = responses['wor_all_words'] + responses['wor_all_selected1'] \n",
    "    \n",
    "    if bert:\n",
    "        return pd.DataFrame(list(df_words.apply(get_words_embedding).values))\n",
    "    else: \n",
    "        aggregated = df_words.apply(clean_text)\n",
    "        cell_vectors = pd.Series.apply(aggregated, aggregating_words)\n",
    "        return pd.DataFrame(normalize(list(cell_vectors.values), norm='l2'))"
   ]
  },
  {
   "cell_type": "markdown",
   "metadata": {},
   "source": [
    "### Initialize dataframes"
   ]
  },
  {
   "cell_type": "code",
   "execution_count": 34,
   "metadata": {},
   "outputs": [],
   "source": [
    "lsa_words_text_embeddings = create_aggregated_word_text_df()"
   ]
  },
  {
   "cell_type": "code",
   "execution_count": 20,
   "metadata": {},
   "outputs": [],
   "source": [
    "bert_text_embeddings = create_aggregated_text_df(bert=True)"
   ]
  },
  {
   "cell_type": "code",
   "execution_count": 21,
   "metadata": {},
   "outputs": [],
   "source": [
    "lsa_text_embeddings = create_aggregated_text_df()"
   ]
  },
  {
   "cell_type": "code",
   "execution_count": 22,
   "metadata": {},
   "outputs": [],
   "source": [
    "bert_words_embeddings = create_aggregated_word_df(bert=True)"
   ]
  },
  {
   "cell_type": "code",
   "execution_count": 23,
   "metadata": {},
   "outputs": [],
   "source": [
    "lsa_words_embeddings = create_aggregated_word_df()"
   ]
  },
  {
   "cell_type": "code",
   "execution_count": 26,
   "metadata": {},
   "outputs": [],
   "source": [
    "bert_words_text_embeddings = create_bert_word_text_df(bert_text_embeddings, bert_words_embeddings)"
   ]
  },
  {
   "cell_type": "markdown",
   "metadata": {},
   "source": [
    "## Dimensionality reduction using PCA or truncated SVD"
   ]
  },
  {
   "cell_type": "code",
   "execution_count": 35,
   "metadata": {},
   "outputs": [],
   "source": [
    "\"\"\"Using data prepeared with PCA\"\"\"\n",
    "\n",
    "def reduce_dim_pca(X, k=220, split=True, sparse=False):\n",
    "    \n",
    "    minmax_scaler = MinMaxScaler(feature_range=[0, 1])\n",
    "    scaler = StandardScaler()\n",
    "    reducer = PCA(n_components=k)\n",
    "    \n",
    "    Y = responses['GAD_class'].values\n",
    "    \n",
    "    if not sparse:\n",
    "        Y = to_categorical(Y)\n",
    "\n",
    "    if split: \n",
    "        X_train, X_test, y_train, y_test = train_test_split(X, Y, test_size=0.2, shuffle=True, random_state=1, stratify=Y)\n",
    "\n",
    "        X_train = reducer.fit_transform(X_train)\n",
    "        X_test = reducer.transform(X_test)\n",
    "        \n",
    "        X_train = scaler.fit_transform(X_train)\n",
    "        X_test = scaler.transform(X_test)\n",
    "        \n",
    "        return X_train, X_test, y_train, y_test\n",
    "    else: \n",
    "        X = reducer.fit_transform(X)\n",
    "        X = scaler.fit_transform(X)\n",
    "        \n",
    "        return X, Y"
   ]
  },
  {
   "cell_type": "code",
   "execution_count": 36,
   "metadata": {},
   "outputs": [],
   "source": [
    "\"\"\"Using data prepeared with truncated SVD\"\"\"\n",
    "\n",
    "def reduce_dim_svd(X, k=220, split=True, sparse=False):\n",
    "    \n",
    "    minmax_scaler = MinMaxScaler(feature_range=[0, 1])\n",
    "    scaler = StandardScaler()\n",
    "    reducer = TruncatedSVD(n_components=k)\n",
    "    \n",
    "    Y = responses['GAD_class'].values\n",
    "    \n",
    "    if not sparse:\n",
    "        Y = to_categorical(Y)\n",
    "\n",
    "    if split: \n",
    "        X_train, X_test, y_train, y_test = train_test_split(X, Y, test_size=0.2, shuffle=True, random_state=1, stratify=Y)\n",
    "\n",
    "        X_train = reducer.fit_transform(X_train)\n",
    "        X_test = reducer.transform(X_test)\n",
    "        \n",
    "        X_train = scaler.fit_transform(X_train)\n",
    "        X_test = scaler.transform(X_test)\n",
    "        \n",
    "        return X_train, X_test, y_train, y_test\n",
    "    else: \n",
    "        X = reducer.fit_transform(X)\n",
    "        X = scaler.fit_transform(X)\n",
    "        \n",
    "        return X, Y"
   ]
  },
  {
   "cell_type": "code",
   "execution_count": 62,
   "metadata": {},
   "outputs": [],
   "source": [
    "def check_data_balance(class_data=responses['GAD_class'].values):\n",
    "    class_data = class_data.flatten()\n",
    "    scale_series = pd.Series(class_data)\n",
    "    scale_cnt = pd.DataFrame(scale_series.value_counts(), columns=['count'])\n",
    "    scale_cnt['prop'] = (scale_cnt/scale_cnt.sum())*100\n",
    "\n",
    "    return scale_cnt"
   ]
  },
  {
   "cell_type": "code",
   "execution_count": 63,
   "metadata": {},
   "outputs": [],
   "source": [
    "def split_train_test(X, y, test_size=0.2):\n",
    "    X_train, X_test, y_train, y_test = train_test_split(X, y, test_size=test_size, stratify=y)\n",
    "    \n",
    "    #Normalize test and train data separately \n",
    "    X_train = normalize(X_train, norm='l2')\n",
    "    X_test = normalize(X_test, norm='l2')\n",
    "    \n",
    "    y_test = y_test.ravel() \n",
    "    y_train = y_train.ravel()\n",
    "    \n",
    "    return X_train, X_test, y_train, y_test"
   ]
  },
  {
   "cell_type": "code",
   "execution_count": 39,
   "metadata": {},
   "outputs": [
    {
     "name": "stdout",
     "output_type": "stream",
     "text": [
      "Number of components = 4 and explained variance = 0.29295438324520184\n",
      "Number of components = 10 and explained variance = 0.37872154760797605\n",
      "Number of components = 15 and explained variance = 0.4266202679881663\n",
      "Number of components = 20 and explained variance = 0.4634106136768471\n",
      "Number of components = 50 and explained variance = 0.6019767196582358\n",
      "Number of components = 100 and explained variance = 0.721824894915861\n",
      "Number of components = 150 and explained variance = 0.7950335751767603\n",
      "Number of components = 200 and explained variance = 0.8464636791381954\n",
      "Number of components = 500 and explained variance = 0.9744752711300901\n",
      "Number of components = 700 and explained variance = 0.9949736867549291\n"
     ]
    },
    {
     "data": {
      "image/png": "[encoded data removed]",
      "text/plain": [
       "<Figure size 432x288 with 1 Axes>"
      ]
     },
     "metadata": {
      "needs_background": "light"
     },
     "output_type": "display_data"
    }
   ],
   "source": [
    "# Program to find the optimal number of components for Truncated SVD\n",
    "n_comp = [4,10,15,20,50,100,150,200,500,700] # list containing different values of components\n",
    "explained = [] # explained variance ratio for each component of Truncated SVD\n",
    "for x in n_comp:\n",
    "    svd = TruncatedSVD(n_components=x)\n",
    "    svd.fit(lsa_words_text_embeddings.values)\n",
    "    explained.append(svd.explained_variance_ratio_.sum())\n",
    "    print(\"Number of components = %r and explained variance = %r\"%(x,svd.explained_variance_ratio_.sum()))\n",
    "plt.plot(n_comp, explained)\n",
    "plt.xlabel('Number of components')\n",
    "plt.ylabel(\"Explained Variance\")\n",
    "plt.title(\"Plot of Number of components v/s explained variance\")\n",
    "plt.show()"
   ]
  },
  {
   "cell_type": "markdown",
   "metadata": {},
   "source": [
    "# Using the Semantic Representations in Analyses"
   ]
  },
  {
   "cell_type": "markdown",
   "metadata": {},
   "source": [
    "Import packages needed for analysis"
   ]
  },
  {
   "cell_type": "code",
   "execution_count": 40,
   "metadata": {},
   "outputs": [],
   "source": [
    "from sklearn.linear_model import Ridge, RidgeCV\n",
    "from sklearn.model_selection import KFold, cross_val_score\n",
    "from sklearn.metrics import r2_score, mean_absolute_error, mean_squared_error, classification_report\n",
    "from scipy.stats import spearmanr\n",
    "from numpy import mean, std\n",
    "\n",
    "from keras.wrappers.scikit_learn import KerasClassifier\n",
    "from keras.models import Sequential\n",
    "from keras.layers import Dense, Dropout, Activation\n",
    "import statistics\n",
    "from numpy import arange"
   ]
  },
  {
   "cell_type": "markdown",
   "metadata": {},
   "source": [
    "## Analysis using ridge multiple regression and PHQ classes as dependent variable "
   ]
  },
  {
   "cell_type": "markdown",
   "metadata": {},
   "source": [
    "**Mean Absolute Error (MAE):** $$MAE = \\frac{1}{n}\\sum^n_{i=1}|y_i-\\hat{y_i}|$$\n",
    "**Mean Squared Error (MSE):** $$MSE = \\frac{1}{n}\\sum^n_{i=1}(y_i-\\hat{y_i})^2$$\n",
    "**Root Mean Squared Error (RMSE):** = $$RMSE = \\sqrt{\\frac{1}{n}\\sum^n_{i=1}(y_i-\\hat{y_i})^2}$$\n",
    "\n",
    "MSE is more popular than MAE because MSE \"punishes\" larger errors. But, RMSE is even more popular than MSE because RMSE is interpretable in the \"y\" units."
   ]
  },
  {
   "cell_type": "markdown",
   "metadata": {},
   "source": [
    "#### Name of embedding df: \n",
    "bert_words_text_embeddings <br>\n",
    "lsa_words_text_embeddings <br><br>\n",
    "bert_text_embeddings <br> \n",
    "lsa_text_embeddings <br> <br>\n",
    "bert_words_embeddings <br> \n",
    "lsa_words_embeddings"
   ]
  },
  {
   "cell_type": "code",
   "execution_count": 60,
   "metadata": {},
   "outputs": [],
   "source": [
    "X_train, X_test, y_train, y_test = reduce_dim_pca(lsa_words_text_embeddings.values, k=50, split=True, sparse=True)"
   ]
  },
  {
   "cell_type": "code",
   "execution_count": 64,
   "metadata": {},
   "outputs": [
    {
     "name": "stdout",
     "output_type": "stream",
     "text": [
      "(196, 50)\n",
      "(196,)\n"
     ]
    },
    {
     "data": {
      "text/html": [
       "<div>\n",
       "<style scoped>\n",
       "    .dataframe tbody tr th:only-of-type {\n",
       "        vertical-align: middle;\n",
       "    }\n",
       "\n",
       "    .dataframe tbody tr th {\n",
       "        vertical-align: top;\n",
       "    }\n",
       "\n",
       "    .dataframe thead th {\n",
       "        text-align: right;\n",
       "    }\n",
       "</style>\n",
       "<table border=\"1\" class=\"dataframe\">\n",
       "  <thead>\n",
       "    <tr style=\"text-align: right;\">\n",
       "      <th></th>\n",
       "      <th>count</th>\n",
       "      <th>prop</th>\n",
       "    </tr>\n",
       "  </thead>\n",
       "  <tbody>\n",
       "    <tr>\n",
       "      <th>2</th>\n",
       "      <td>53</td>\n",
       "      <td>27.040816</td>\n",
       "    </tr>\n",
       "    <tr>\n",
       "      <th>0</th>\n",
       "      <td>52</td>\n",
       "      <td>26.530612</td>\n",
       "    </tr>\n",
       "    <tr>\n",
       "      <th>3</th>\n",
       "      <td>46</td>\n",
       "      <td>23.469388</td>\n",
       "    </tr>\n",
       "    <tr>\n",
       "      <th>1</th>\n",
       "      <td>45</td>\n",
       "      <td>22.959184</td>\n",
       "    </tr>\n",
       "  </tbody>\n",
       "</table>\n",
       "</div>"
      ],
      "text/plain": [
       "   count       prop\n",
       "2     53  27.040816\n",
       "0     52  26.530612\n",
       "3     46  23.469388\n",
       "1     45  22.959184"
      ]
     },
     "execution_count": 64,
     "metadata": {},
     "output_type": "execute_result"
    }
   ],
   "source": [
    "print(X_test.shape)\n",
    "print(y_test.shape)\n",
    "check_data_balance(y_test)"
   ]
  },
  {
   "cell_type": "code",
   "execution_count": 462,
   "metadata": {},
   "outputs": [],
   "source": [
    "ridge_model = Ridge(alpha=.05).fit(X_train, y_train)\n",
    "y_pred = ridge_model.predict(X_test)"
   ]
  },
  {
   "cell_type": "code",
   "execution_count": 463,
   "metadata": {
    "scrolled": true
   },
   "outputs": [
    {
     "name": "stdout",
     "output_type": "stream",
     "text": [
      "R2 score data:   0.4425054041140659\n",
      "Spearmans correlation:  0.6218664479057153\n",
      "MAE:  0.8592840339500867\n",
      "\n",
      "MSE:  1.1193292171338816\n",
      "RMSE: 1.0579835618448339\n"
     ]
    }
   ],
   "source": [
    "print(\"R2 score data:  \", ridge_model.score(X_test, y_test)) \n",
    "corr, _ = spearmanr(y_pred, y_test)\n",
    "print('Spearmans correlation: ', corr)\n",
    "\n",
    "print(\"MAE: \", mean_absolute_error(y_pred, y_test))\n",
    "print(\"\\nMSE: \", mean_squared_error(y_pred, y_test))\n",
    "print(\"RMSE:\", np.sqrt(mean_squared_error(y_test, y_pred)))"
   ]
  },
  {
   "cell_type": "markdown",
   "metadata": {},
   "source": [
    "### With cross validation"
   ]
  },
  {
   "cell_type": "code",
   "execution_count": 110,
   "metadata": {},
   "outputs": [
    {
     "name": "stdout",
     "output_type": "stream",
     "text": [
      "Alpha:  1.0\n",
      "R2 score data:   0.2918336681794247\n",
      "Spearmans correlation:  0.507612170251977\n",
      "MAE:  0.7555202822098696\n"
     ]
    }
   ],
   "source": [
    "cv = KFold(n_splits=10, shuffle=True)\n",
    "ridge_model_CV = RidgeCV(alphas=[0.001, 0.005, 0.01, 0.05, 0.1, 0.5, 1.0], cv=cv).fit(X_train, y_train)\n",
    "y_predCV = ridge_model_CV.predict(X_test)\n",
    "\n",
    "print('Alpha: ', ridge_model_CV.alpha_)\n",
    "print(\"R2 score data:  \", ridge_model_CV.score(X_test, y_test)) \n",
    "corr, _ = spearmanr(y_predCV, y_test)\n",
    "print('Spearmans correlation: ', corr)\n",
    "print(\"MAE: \", mean_absolute_error(y_predCV, y_test))"
   ]
  },
  {
   "cell_type": "code",
   "execution_count": null,
   "metadata": {},
   "outputs": [],
   "source": []
  },
  {
   "cell_type": "markdown",
   "metadata": {},
   "source": [
    "# Results table Ridge Regression w/ dependent variable GAD classes "
   ]
  },
  {
   "cell_type": "markdown",
   "metadata": {},
   "source": [
    "|           | Embedding     | Dim reduction |  Alpha  |  Spearmans  |   R2  |  MAE  |\n",
    "| :-------- | :------------:|:-------------:|: ------:|:-----------:|:-----:|:-----:|\n",
    "| **Words + Text** | LSA           | PCA    |    1.0  | 0.296       | 0.111 | 0.900 |\n",
    "| **Words + Text** | LSA           | UMAP   |  .001   | 0.349       | 0.086 | 0.871 |\n",
    "| **Words + Text** | LSA           | SVD    |  1.0    | 0.272       | 0.103 | 0.907 |\n",
    "| **Words + Text** | BERT          | PCA    |   1.0   |    0.648    |  0.420| 0.676 |\n",
    "| **Words + Text** | BERT          | UMAP   |  .01    | 0.487       | 0.268 | 0.793 |\n",
    "| **Words + Text** | BERT          | SVD    |  1.0    | 0.599       | 0.378 | 0.700 |\n",
    "| | | | | |\n",
    "| | | | | |\n",
    "| **Words**        | LSA           | PCA    | 1.0   | 0.215 | 0.114 | 0.856 |\n",
    "| **Words**        | LSA           | UMAP   |  .001 | 0.563 | 0.329 | 0.719 |\n",
    "| **Words**        | LSA           | SVD    |  1.0  | 0.216 | 0.114 | 0.858 |\n",
    "| **Words**        | BERT          | PCA    |  1.0  | 0.622 | 0.403 | 0.695 |\n",
    "| **Words**        | BERT          | UMAP   |  .005 | 0.491 | 0.240 | 0.795 |\n",
    "| **Words**        | BERT          | PCA    |  1.0  | 0.620 | 0.400 | 0.698 |\n",
    "| | | | | |\n",
    "| | | | | |\n",
    "|**Text**          | LSA           | PCA     | 1.0  | 0.191 | 0.017 | 0.971 |\n",
    "|**Text**          | LSA           | UMAP    |  .001| 0.185 | 0.002| 0.940|\n",
    "|**Text**          | LSA           | SVD     | 1.0  | 0.199 | 0.023 | 0.966 |\n",
    "|**Text**          | BERT          | PCA     |  1.0 | 0.508 | 0.291 | 0.756 |\n",
    "|**Text**          | BERT          | UMAP    |  .05 | 0.368 | 0.117 | 0.859|\n",
    "|**Text**          | BERT          | SVD     | 1.0  | 0.516 | 0.300 | 0.752 |\n"
   ]
  },
  {
   "cell_type": "markdown",
   "metadata": {},
   "source": [
    "## Analysis using Multilayer Perceptron Neural Network for multi-class classification"
   ]
  },
  {
   "cell_type": "code",
   "execution_count": 65,
   "metadata": {},
   "outputs": [
    {
     "name": "stdout",
     "output_type": "stream",
     "text": [
      "Model: \"sequential_5\"\n",
      "_________________________________________________________________\n",
      "Layer (type)                 Output Shape              Param #   \n",
      "=================================================================\n",
      "dense_20 (Dense)             (None, 50)                2550      \n",
      "_________________________________________________________________\n",
      "dropout_14 (Dropout)         (None, 50)                0         \n",
      "_________________________________________________________________\n",
      "dense_21 (Dense)             (None, 25)                1275      \n",
      "_________________________________________________________________\n",
      "dropout_15 (Dropout)         (None, 25)                0         \n",
      "_________________________________________________________________\n",
      "dense_22 (Dense)             (None, 8)                 208       \n",
      "_________________________________________________________________\n",
      "dropout_16 (Dropout)         (None, 8)                 0         \n",
      "_________________________________________________________________\n",
      "dense_23 (Dense)             (None, 5)                 45        \n",
      "=================================================================\n",
      "Total params: 4,078\n",
      "Trainable params: 4,078\n",
      "Non-trainable params: 0\n",
      "_________________________________________________________________\n"
     ]
    }
   ],
   "source": [
    "model = Sequential()\n",
    "model.add(Dense(50, input_shape=(X_train.shape[1],), activation='relu')) #60,25, 10\n",
    "model.add(Dropout(0.5))\n",
    "model.add(Dense(25, activation='relu')) \n",
    "model.add(Dropout(0.5))\n",
    "model.add(Dense(8, activation='relu'))\n",
    "model.add(Dropout(0.5))\n",
    "model.add(Dense(5, activation='softmax'))\n",
    "\n",
    "model.compile(optimizer='adam', loss='sparse_categorical_crossentropy', metrics=['sparse_categorical_accuracy'])\n",
    "model.summary()"
   ]
  },
  {
   "cell_type": "code",
   "execution_count": 66,
   "metadata": {},
   "outputs": [],
   "source": [
    "history = model.fit(X_train, y_train, batch_size=30, epochs=150, verbose=0, validation_data=(X_test, y_test))"
   ]
  },
  {
   "cell_type": "code",
   "execution_count": 67,
   "metadata": {},
   "outputs": [
    {
     "data": {
      "image/png": "[encoded data removed]",
      "text/plain": [
       "<Figure size 432x288 with 1 Axes>"
      ]
     },
     "metadata": {
      "needs_background": "light"
     },
     "output_type": "display_data"
    },
    {
     "data": {
      "image/png": "[encoded data removed]",
      "text/plain": [
       "<Figure size 432x288 with 1 Axes>"
      ]
     },
     "metadata": {
      "needs_background": "light"
     },
     "output_type": "display_data"
    }
   ],
   "source": [
    "loss = history.history['loss']\n",
    "val_loss = history.history['val_loss']\n",
    "epochs = range(1, 151)\n",
    "plt.plot(epochs, loss, 'b', label='Training_loss')\n",
    "plt.plot(epochs, val_loss, 'y', label='Validation_loss')\n",
    "plt.title('Training and validation loss')\n",
    "plt.xlabel('Epochs')\n",
    "plt.ylabel('Loss')\n",
    "plt.legend()\n",
    "plt.show()\n",
    "\n",
    "acc = history.history['sparse_categorical_accuracy']\n",
    "val_acc = history.history['val_sparse_categorical_accuracy']\n",
    "plt.plot(epochs, acc, 'b', label='Training_accuracy')\n",
    "plt.plot(epochs, val_acc, 'y', label='Validaion_accuracy')\n",
    "plt.plot(epochs, [statistics.mean(val_acc)]*len(epochs), 'g', label='Mean val score')\n",
    "plt.xlabel('Epochs')\n",
    "plt.ylabel('Accuracy')\n",
    "plt.legend()\n",
    "plt.show()"
   ]
  },
  {
   "cell_type": "code",
   "execution_count": 50,
   "metadata": {},
   "outputs": [
    {
     "name": "stdout",
     "output_type": "stream",
     "text": [
      "Embedding with bert_words_anx\n",
      "Spearmans correlation:  0.39553824910369073\n",
      "              precision    recall  f1-score   support\n",
      "\n",
      "           0       0.68      0.44      0.53        52\n",
      "           1       0.27      0.18      0.21        45\n",
      "           2       0.34      0.64      0.45        53\n",
      "           3       0.39      0.28      0.33        46\n",
      "\n",
      "    accuracy                           0.40       196\n",
      "   macro avg       0.42      0.39      0.38       196\n",
      "weighted avg       0.43      0.40      0.39       196\n",
      "\n"
     ]
    }
   ],
   "source": [
    "y_pred_check = np.argmax(model.predict(X_test),axis=1)\n",
    "sc, _ = spearmanr(y_pred_check, y_test)\n",
    "\n",
    "print('Embedding with bert_words_anx')\n",
    "print('Spearmans correlation: ', sc)\n",
    "print(classification_report(y_test, y_pred_check))"
   ]
  },
  {
   "cell_type": "markdown",
   "metadata": {},
   "source": [
    "# Testing"
   ]
  },
  {
   "cell_type": "code",
   "execution_count": 28,
   "metadata": {},
   "outputs": [
    {
     "data": {
      "text/plain": [
       "'Over the past two weeks, I have not been depressed.  I have been interested in things as much as I normally have been.  I have been in a good mood and I have been motivated to do things.  I have been engaged in my normal activities and my sleep has been pretty good.'"
      ]
     },
     "execution_count": 28,
     "metadata": {},
     "output_type": "execute_result"
    }
   ],
   "source": [
    "from keybert import KeyBERT\n",
    "kw_model = KeyBERT('distilbert-base-nli-mean-tokens')"
   ]
  },
  {
   "cell_type": "code",
   "execution_count": 31,
   "metadata": {},
   "outputs": [
    {
     "name": "stdout",
     "output_type": "stream",
     "text": [
      "I don't think I have felt depressed. I'm not familiar with the feelings of depression. Worry, yes, anxiety, joylesssness - something my former husband always accused me of and he may be right ... I do find it hard to get pleasure out of things but I feel connected with other people and the world so I don't think I could count as depressed\n"
     ]
    },
    {
     "data": {
      "text/plain": [
       "[('depressed', 0.314),\n",
       " ('anxiety', 0.2829),\n",
       " ('depression', 0.2795),\n",
       " ('husband', 0.2404),\n",
       " ('joylesssness', 0.2334)]"
      ]
     },
     "execution_count": 31,
     "metadata": {},
     "output_type": "execute_result"
    }
   ],
   "source": [
    "tst = responses['Deptext'][1]\n",
    "print(tst)\n",
    "kw_model.extract_keywords(tst)"
   ]
  },
  {
   "cell_type": "markdown",
   "metadata": {},
   "source": [
    "# Baseline"
   ]
  },
  {
   "cell_type": "code",
   "execution_count": 120,
   "metadata": {},
   "outputs": [],
   "source": [
    "from sklearn.dummy import DummyClassifier, DummyRegressor"
   ]
  },
  {
   "cell_type": "code",
   "execution_count": 165,
   "metadata": {},
   "outputs": [
    {
     "name": "stdout",
     "output_type": "stream",
     "text": [
      "Dummy predictions:\n",
      "Spearmans correlation:  -0.02060074303197888\n",
      "              precision    recall  f1-score   support\n",
      "\n",
      "           0       0.25      0.21      0.23        52\n",
      "           1       0.35      0.36      0.35        45\n",
      "           2       0.29      0.33      0.31        52\n",
      "           3       0.28      0.28      0.28        43\n",
      "\n",
      "    accuracy                           0.29       192\n",
      "   macro avg       0.29      0.29      0.29       192\n",
      "weighted avg       0.29      0.29      0.29       192\n",
      "\n"
     ]
    }
   ],
   "source": [
    "#Stratified generates random predictions by respecting the training set class distribution.\n",
    "dummy_model = DummyClassifier(strategy='stratified', random_state=0)\n",
    "\n",
    "X_dummy = lsa_words_text_embeddings.values\n",
    "\n",
    "X_train_dummy, X_test_dummy, y_train_dummy, y_test_dummy = split_train_test(X_dummy, responses['GAD_class'])\n",
    "\n",
    "dummy_model.fit(X_train_dummy, y_train_dummy)\n",
    "y_pred_dummy = dummy_model.predict(X_test_dummy) \n",
    "\n",
    "\n",
    "sc_dummy, _ = spearmanr(y_pred_dummy, y_test_dummy)\n",
    "\n",
    "print('Dummy predictions:')\n",
    "print('Spearmans correlation: ', sc_dummy)\n",
    "print(classification_report(y_test_dummy, y_pred_dummy))"
   ]
  },
  {
   "cell_type": "code",
   "execution_count": 121,
   "metadata": {},
   "outputs": [
    {
     "name": "stdout",
     "output_type": "stream",
     "text": [
      "[1.45418848 1.45418848 1.45418848 1.45418848 1.45418848 1.45418848\n",
      " 1.45418848 1.45418848 1.45418848 1.45418848 1.45418848 1.45418848\n",
      " 1.45418848 1.45418848 1.45418848 1.45418848 1.45418848 1.45418848\n",
      " 1.45418848 1.45418848 1.45418848 1.45418848 1.45418848 1.45418848\n",
      " 1.45418848 1.45418848 1.45418848 1.45418848 1.45418848 1.45418848\n",
      " 1.45418848 1.45418848 1.45418848 1.45418848 1.45418848 1.45418848\n",
      " 1.45418848 1.45418848 1.45418848 1.45418848 1.45418848 1.45418848\n",
      " 1.45418848 1.45418848 1.45418848 1.45418848 1.45418848 1.45418848\n",
      " 1.45418848 1.45418848 1.45418848 1.45418848 1.45418848 1.45418848\n",
      " 1.45418848 1.45418848 1.45418848 1.45418848 1.45418848 1.45418848\n",
      " 1.45418848 1.45418848 1.45418848 1.45418848 1.45418848 1.45418848\n",
      " 1.45418848 1.45418848 1.45418848 1.45418848 1.45418848 1.45418848\n",
      " 1.45418848 1.45418848 1.45418848 1.45418848 1.45418848 1.45418848\n",
      " 1.45418848 1.45418848 1.45418848 1.45418848 1.45418848 1.45418848\n",
      " 1.45418848 1.45418848 1.45418848 1.45418848 1.45418848 1.45418848\n",
      " 1.45418848 1.45418848 1.45418848 1.45418848 1.45418848 1.45418848\n",
      " 1.45418848 1.45418848 1.45418848 1.45418848 1.45418848 1.45418848\n",
      " 1.45418848 1.45418848 1.45418848 1.45418848 1.45418848 1.45418848\n",
      " 1.45418848 1.45418848 1.45418848 1.45418848 1.45418848 1.45418848\n",
      " 1.45418848 1.45418848 1.45418848 1.45418848 1.45418848 1.45418848\n",
      " 1.45418848 1.45418848 1.45418848 1.45418848 1.45418848 1.45418848\n",
      " 1.45418848 1.45418848 1.45418848 1.45418848 1.45418848 1.45418848\n",
      " 1.45418848 1.45418848 1.45418848 1.45418848 1.45418848 1.45418848\n",
      " 1.45418848 1.45418848 1.45418848 1.45418848 1.45418848 1.45418848\n",
      " 1.45418848 1.45418848 1.45418848 1.45418848 1.45418848 1.45418848\n",
      " 1.45418848 1.45418848 1.45418848 1.45418848 1.45418848 1.45418848\n",
      " 1.45418848 1.45418848 1.45418848 1.45418848 1.45418848 1.45418848\n",
      " 1.45418848 1.45418848 1.45418848 1.45418848 1.45418848 1.45418848\n",
      " 1.45418848 1.45418848 1.45418848 1.45418848 1.45418848 1.45418848\n",
      " 1.45418848 1.45418848 1.45418848 1.45418848 1.45418848 1.45418848\n",
      " 1.45418848 1.45418848 1.45418848 1.45418848 1.45418848 1.45418848\n",
      " 1.45418848 1.45418848 1.45418848 1.45418848 1.45418848 1.45418848]\n",
      "Spearmans correlation:  nan\n",
      "R2 score data:   -3.180256819468319e-05\n",
      "MAE:  0.9943144633507853\n"
     ]
    }
   ],
   "source": [
    "dummy_regr = DummyRegressor(strategy=\"mean\")\n",
    "\n",
    "X_dummy = bert_words_text_embeddings.values\n",
    "X_train_dummy, X_test_dummy, y_train_dummy, y_test_dummy = split_train_test(X_dummy, responses['GAD_class'])\n",
    "\n",
    "dummy_regr.fit(X_train_dummy, y_train_dummy)\n",
    "y_pred_dummy = dummy_regr.predict(X_test_dummy) \n",
    "\n",
    "print(y_pred_dummy)\n",
    "\n",
    "sc_dummy, _ = spearmanr(y_pred_dummy, y_test_dummy)\n",
    "\n",
    "print('Spearmans correlation: ', sc_dummy)\n",
    "print(\"R2 score data:  \", dummy_regr.score(X_test_dummy, y_test_dummy)) \n",
    "print(\"MAE: \", mean_absolute_error(y_pred_dummy, y_test_dummy))"
   ]
  },
  {
   "cell_type": "code",
   "execution_count": null,
   "metadata": {},
   "outputs": [],
   "source": []
  }
 ],
 "metadata": {
  "kernelspec": {
   "display_name": "Python 3",
   "language": "python",
   "name": "python3"
  },
  "language_info": {
   "codemirror_mode": {
    "name": "ipython",
    "version": 3
   },
   "file_extension": ".py",
   "mimetype": "text/x-python",
   "name": "python",
   "nbconvert_exporter": "python",
   "pygments_lexer": "ipython3",
   "version": "3.8.8"
  }
 },
 "nbformat": 4,
 "nbformat_minor": 4
}
