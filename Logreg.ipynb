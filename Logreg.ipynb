{
 "cells": [
  {
   "cell_type": "markdown",
   "id": "equipped-reputation",
   "metadata": {},
   "source": [
    "## Using logistic regression to predict whether a patient has depression and/or anxiety"
   ]
  },
  {
   "cell_type": "markdown",
   "id": "surprised-disease",
   "metadata": {},
   "source": [
    "### Import packages"
   ]
  },
  {
   "cell_type": "code",
   "execution_count": 1,
   "id": "communist-gossip",
   "metadata": {},
   "outputs": [],
   "source": [
    "import numpy as np\n",
    "import os\n",
    "import pandas as pd\n",
    "import re"
   ]
  },
  {
   "cell_type": "markdown",
   "id": "moved-parts",
   "metadata": {},
   "source": [
    "### Importing dataset"
   ]
  },
  {
   "cell_type": "code",
   "execution_count": 2,
   "id": "broad-surname",
   "metadata": {},
   "outputs": [
    {
     "data": {
      "text/html": [
       "<div>\n",
       "<style scoped>\n",
       "    .dataframe tbody tr th:only-of-type {\n",
       "        vertical-align: middle;\n",
       "    }\n",
       "\n",
       "    .dataframe tbody tr th {\n",
       "        vertical-align: top;\n",
       "    }\n",
       "\n",
       "    .dataframe thead th {\n",
       "        text-align: right;\n",
       "    }\n",
       "</style>\n",
       "<table border=\"1\" class=\"dataframe\">\n",
       "  <thead>\n",
       "    <tr style=\"text-align: right;\">\n",
       "      <th></th>\n",
       "      <th>id</th>\n",
       "      <th>submitdate</th>\n",
       "      <th>lastpage</th>\n",
       "      <th>startlanguage</th>\n",
       "      <th>seed</th>\n",
       "      <th>startdate</th>\n",
       "      <th>datestamp</th>\n",
       "      <th>sequence1</th>\n",
       "      <th>seqOne</th>\n",
       "      <th>Dep5words[Word1]</th>\n",
       "      <th>...</th>\n",
       "      <th>wor_all_selected</th>\n",
       "      <th>wor_all_selected1</th>\n",
       "      <th>minidep_scale</th>\n",
       "      <th>minidep_diagnose</th>\n",
       "      <th>depression_episodes</th>\n",
       "      <th>miniGAD_scale</th>\n",
       "      <th>miniGAD_symptoms_scale</th>\n",
       "      <th>miniGAD_diagnose</th>\n",
       "      <th>minidiagnose_category</th>\n",
       "      <th>minidiagnose_category_number</th>\n",
       "    </tr>\n",
       "  </thead>\n",
       "  <tbody>\n",
       "    <tr>\n",
       "      <th>0</th>\n",
       "      <td>434.0</td>\n",
       "      <td>2020-08-07 11:46:22</td>\n",
       "      <td>15.0</td>\n",
       "      <td>en</td>\n",
       "      <td>6.593644e+08</td>\n",
       "      <td>2020-08-07 11:38:22</td>\n",
       "      <td>2020-08-07 11:46:22</td>\n",
       "      <td>2.0</td>\n",
       "      <td>1.0</td>\n",
       "      <td>motivated</td>\n",
       "      <td>...</td>\n",
       "      <td>NA NA happy NA NA NA NA NA NA NA NA NA NA care...</td>\n",
       "      <td>happy           carefree     satisfied      ...</td>\n",
       "      <td>0.0</td>\n",
       "      <td>0</td>\n",
       "      <td>0</td>\n",
       "      <td>0</td>\n",
       "      <td>0</td>\n",
       "      <td>0</td>\n",
       "      <td>NoDi</td>\n",
       "      <td>0</td>\n",
       "    </tr>\n",
       "    <tr>\n",
       "      <th>1</th>\n",
       "      <td>184.0</td>\n",
       "      <td>2020-08-07 11:58:36</td>\n",
       "      <td>15.0</td>\n",
       "      <td>en</td>\n",
       "      <td>2.803892e+08</td>\n",
       "      <td>2020-08-07 11:34:31</td>\n",
       "      <td>2020-08-07 11:58:36</td>\n",
       "      <td>2.0</td>\n",
       "      <td>1.0</td>\n",
       "      <td>connected</td>\n",
       "      <td>...</td>\n",
       "      <td>anxious NA NA NA NA NA NA NA NA NA NA tense NA...</td>\n",
       "      <td>anxious           tense    fearful  sad     fe...</td>\n",
       "      <td>3.0</td>\n",
       "      <td>0</td>\n",
       "      <td>0</td>\n",
       "      <td>8</td>\n",
       "      <td>5</td>\n",
       "      <td>0</td>\n",
       "      <td>NoDi</td>\n",
       "      <td>0</td>\n",
       "    </tr>\n",
       "    <tr>\n",
       "      <th>2</th>\n",
       "      <td>330.0</td>\n",
       "      <td>2020-08-07 11:51:54</td>\n",
       "      <td>15.0</td>\n",
       "      <td>en</td>\n",
       "      <td>6.770686e+07</td>\n",
       "      <td>2020-08-07 11:36:32</td>\n",
       "      <td>2020-08-07 11:51:54</td>\n",
       "      <td>1.0</td>\n",
       "      <td>1.0</td>\n",
       "      <td>Yes</td>\n",
       "      <td>...</td>\n",
       "      <td>anxious NA NA NA NA NA worried NA NA NA NA NA ...</td>\n",
       "      <td>anxious      worried      scared     sad   mon...</td>\n",
       "      <td>7.0</td>\n",
       "      <td>0</td>\n",
       "      <td>5</td>\n",
       "      <td>9</td>\n",
       "      <td>5</td>\n",
       "      <td>0</td>\n",
       "      <td>NoDi</td>\n",
       "      <td>0</td>\n",
       "    </tr>\n",
       "    <tr>\n",
       "      <th>3</th>\n",
       "      <td>630.0</td>\n",
       "      <td>2020-08-07 13:22:42</td>\n",
       "      <td>15.0</td>\n",
       "      <td>en</td>\n",
       "      <td>1.176643e+09</td>\n",
       "      <td>2020-08-07 12:55:26</td>\n",
       "      <td>2020-08-07 13:22:42</td>\n",
       "      <td>3.0</td>\n",
       "      <td>1.0</td>\n",
       "      <td>minor</td>\n",
       "      <td>...</td>\n",
       "      <td>anxious NA NA NA NA concerned NA NA NA NA NA t...</td>\n",
       "      <td>anxious     concerned      tense scared       ...</td>\n",
       "      <td>3.0</td>\n",
       "      <td>0</td>\n",
       "      <td>5</td>\n",
       "      <td>8</td>\n",
       "      <td>5</td>\n",
       "      <td>0</td>\n",
       "      <td>NoDi</td>\n",
       "      <td>0</td>\n",
       "    </tr>\n",
       "    <tr>\n",
       "      <th>4</th>\n",
       "      <td>400.0</td>\n",
       "      <td>2020-08-07 12:04:52</td>\n",
       "      <td>15.0</td>\n",
       "      <td>en</td>\n",
       "      <td>1.012492e+09</td>\n",
       "      <td>2020-08-07 11:37:19</td>\n",
       "      <td>2020-08-07 12:04:52</td>\n",
       "      <td>1.0</td>\n",
       "      <td>1.0</td>\n",
       "      <td>family</td>\n",
       "      <td>...</td>\n",
       "      <td>NA NA NA NA NA concerned NA NA NA NA NA tense ...</td>\n",
       "      <td>concerned      tense      sad      tired ...</td>\n",
       "      <td>4.0</td>\n",
       "      <td>0</td>\n",
       "      <td>2</td>\n",
       "      <td>7</td>\n",
       "      <td>4</td>\n",
       "      <td>1</td>\n",
       "      <td>GAD</td>\n",
       "      <td>2</td>\n",
       "    </tr>\n",
       "    <tr>\n",
       "      <th>...</th>\n",
       "      <td>...</td>\n",
       "      <td>...</td>\n",
       "      <td>...</td>\n",
       "      <td>...</td>\n",
       "      <td>...</td>\n",
       "      <td>...</td>\n",
       "      <td>...</td>\n",
       "      <td>...</td>\n",
       "      <td>...</td>\n",
       "      <td>...</td>\n",
       "      <td>...</td>\n",
       "      <td>...</td>\n",
       "      <td>...</td>\n",
       "      <td>...</td>\n",
       "      <td>...</td>\n",
       "      <td>...</td>\n",
       "      <td>...</td>\n",
       "      <td>...</td>\n",
       "      <td>...</td>\n",
       "      <td>...</td>\n",
       "      <td>...</td>\n",
       "    </tr>\n",
       "    <tr>\n",
       "      <th>957</th>\n",
       "      <td>32.0</td>\n",
       "      <td>2020-08-07 12:02:58</td>\n",
       "      <td>15.0</td>\n",
       "      <td>en</td>\n",
       "      <td>1.363161e+09</td>\n",
       "      <td>2020-08-07 11:45:11</td>\n",
       "      <td>2020-08-07 12:02:58</td>\n",
       "      <td>3.0</td>\n",
       "      <td>1.0</td>\n",
       "      <td>Worried</td>\n",
       "      <td>...</td>\n",
       "      <td>anxious NA NA NA NA NA NA NA NA NA NA NA scare...</td>\n",
       "      <td>anxious            scared  uneasy fearful     ...</td>\n",
       "      <td>9.0</td>\n",
       "      <td>1</td>\n",
       "      <td>1</td>\n",
       "      <td>0</td>\n",
       "      <td>0</td>\n",
       "      <td>0</td>\n",
       "      <td>Dep</td>\n",
       "      <td>1</td>\n",
       "    </tr>\n",
       "    <tr>\n",
       "      <th>958</th>\n",
       "      <td>344.0</td>\n",
       "      <td>2020-08-07 13:45:57</td>\n",
       "      <td>15.0</td>\n",
       "      <td>en</td>\n",
       "      <td>1.283747e+08</td>\n",
       "      <td>2020-08-07 13:32:04</td>\n",
       "      <td>2020-08-07 13:45:57</td>\n",
       "      <td>3.0</td>\n",
       "      <td>1.0</td>\n",
       "      <td>Tired</td>\n",
       "      <td>...</td>\n",
       "      <td>NA NA NA nervous NA NA worried NA NA NA NA NA ...</td>\n",
       "      <td>nervous   worried             stress  anxie...</td>\n",
       "      <td>7.0</td>\n",
       "      <td>1</td>\n",
       "      <td>7</td>\n",
       "      <td>11</td>\n",
       "      <td>6</td>\n",
       "      <td>1</td>\n",
       "      <td>BOTH</td>\n",
       "      <td>3</td>\n",
       "    </tr>\n",
       "    <tr>\n",
       "      <th>959</th>\n",
       "      <td>297.0</td>\n",
       "      <td>2020-08-07 13:11:46</td>\n",
       "      <td>15.0</td>\n",
       "      <td>en</td>\n",
       "      <td>9.695994e+08</td>\n",
       "      <td>2020-08-07 12:52:04</td>\n",
       "      <td>2020-08-07 13:11:46</td>\n",
       "      <td>3.0</td>\n",
       "      <td>1.0</td>\n",
       "      <td>Unsettled</td>\n",
       "      <td>...</td>\n",
       "      <td>NA NA NA NA NA NA NA NA stressed NA NA NA scar...</td>\n",
       "      <td>stressed    scared   fearful      anxi...</td>\n",
       "      <td>7.0</td>\n",
       "      <td>1</td>\n",
       "      <td>2</td>\n",
       "      <td>10</td>\n",
       "      <td>5</td>\n",
       "      <td>1</td>\n",
       "      <td>BOTH</td>\n",
       "      <td>3</td>\n",
       "    </tr>\n",
       "    <tr>\n",
       "      <th>960</th>\n",
       "      <td>241.0</td>\n",
       "      <td>2020-08-07 12:51:07</td>\n",
       "      <td>15.0</td>\n",
       "      <td>en</td>\n",
       "      <td>1.976520e+09</td>\n",
       "      <td>2020-08-07 12:28:54</td>\n",
       "      <td>2020-08-07 12:51:07</td>\n",
       "      <td>2.0</td>\n",
       "      <td>1.0</td>\n",
       "      <td>Despair</td>\n",
       "      <td>...</td>\n",
       "      <td>anxious NA NA NA NA NA worried NA stressed NA ...</td>\n",
       "      <td>anxious      worried  stressed      uneasy    ...</td>\n",
       "      <td>8.0</td>\n",
       "      <td>1</td>\n",
       "      <td>1</td>\n",
       "      <td>11</td>\n",
       "      <td>6</td>\n",
       "      <td>1</td>\n",
       "      <td>BOTH</td>\n",
       "      <td>3</td>\n",
       "    </tr>\n",
       "    <tr>\n",
       "      <th>961</th>\n",
       "      <td>350.0</td>\n",
       "      <td>2020-08-10 14:20:21</td>\n",
       "      <td>15.0</td>\n",
       "      <td>en</td>\n",
       "      <td>1.631209e+09</td>\n",
       "      <td>2020-08-10 14:11:02</td>\n",
       "      <td>2020-08-10 14:20:21</td>\n",
       "      <td>3.0</td>\n",
       "      <td>1.0</td>\n",
       "      <td>Worried</td>\n",
       "      <td>...</td>\n",
       "      <td>NA NA NA nervous NA NA NA NA NA NA NA tense NA...</td>\n",
       "      <td>nervous        tense   uneasy     stress  a...</td>\n",
       "      <td>7.0</td>\n",
       "      <td>0</td>\n",
       "      <td>3</td>\n",
       "      <td>9</td>\n",
       "      <td>6</td>\n",
       "      <td>1</td>\n",
       "      <td>GAD</td>\n",
       "      <td>2</td>\n",
       "    </tr>\n",
       "  </tbody>\n",
       "</table>\n",
       "<p>952 rows × 407 columns</p>\n",
       "</div>"
      ],
      "text/plain": [
       "        id           submitdate  lastpage startlanguage          seed  \\\n",
       "0    434.0  2020-08-07 11:46:22      15.0            en  6.593644e+08   \n",
       "1    184.0  2020-08-07 11:58:36      15.0            en  2.803892e+08   \n",
       "2    330.0  2020-08-07 11:51:54      15.0            en  6.770686e+07   \n",
       "3    630.0  2020-08-07 13:22:42      15.0            en  1.176643e+09   \n",
       "4    400.0  2020-08-07 12:04:52      15.0            en  1.012492e+09   \n",
       "..     ...                  ...       ...           ...           ...   \n",
       "957   32.0  2020-08-07 12:02:58      15.0            en  1.363161e+09   \n",
       "958  344.0  2020-08-07 13:45:57      15.0            en  1.283747e+08   \n",
       "959  297.0  2020-08-07 13:11:46      15.0            en  9.695994e+08   \n",
       "960  241.0  2020-08-07 12:51:07      15.0            en  1.976520e+09   \n",
       "961  350.0  2020-08-10 14:20:21      15.0            en  1.631209e+09   \n",
       "\n",
       "               startdate            datestamp  sequence1  seqOne  \\\n",
       "0    2020-08-07 11:38:22  2020-08-07 11:46:22        2.0     1.0   \n",
       "1    2020-08-07 11:34:31  2020-08-07 11:58:36        2.0     1.0   \n",
       "2    2020-08-07 11:36:32  2020-08-07 11:51:54        1.0     1.0   \n",
       "3    2020-08-07 12:55:26  2020-08-07 13:22:42        3.0     1.0   \n",
       "4    2020-08-07 11:37:19  2020-08-07 12:04:52        1.0     1.0   \n",
       "..                   ...                  ...        ...     ...   \n",
       "957  2020-08-07 11:45:11  2020-08-07 12:02:58        3.0     1.0   \n",
       "958  2020-08-07 13:32:04  2020-08-07 13:45:57        3.0     1.0   \n",
       "959  2020-08-07 12:52:04  2020-08-07 13:11:46        3.0     1.0   \n",
       "960  2020-08-07 12:28:54  2020-08-07 12:51:07        2.0     1.0   \n",
       "961  2020-08-10 14:11:02  2020-08-10 14:20:21        3.0     1.0   \n",
       "\n",
       "    Dep5words[Word1]  ...                                   wor_all_selected  \\\n",
       "0          motivated  ...  NA NA happy NA NA NA NA NA NA NA NA NA NA care...   \n",
       "1          connected  ...  anxious NA NA NA NA NA NA NA NA NA NA tense NA...   \n",
       "2                Yes  ...  anxious NA NA NA NA NA worried NA NA NA NA NA ...   \n",
       "3              minor  ...  anxious NA NA NA NA concerned NA NA NA NA NA t...   \n",
       "4             family  ...  NA NA NA NA NA concerned NA NA NA NA NA tense ...   \n",
       "..               ...  ...                                                ...   \n",
       "957          Worried  ...  anxious NA NA NA NA NA NA NA NA NA NA NA scare...   \n",
       "958            Tired  ...  NA NA NA nervous NA NA worried NA NA NA NA NA ...   \n",
       "959        Unsettled  ...  NA NA NA NA NA NA NA NA stressed NA NA NA scar...   \n",
       "960          Despair  ...  anxious NA NA NA NA NA worried NA stressed NA ...   \n",
       "961          Worried  ...  NA NA NA nervous NA NA NA NA NA NA NA tense NA...   \n",
       "\n",
       "                                     wor_all_selected1 minidep_scale  \\\n",
       "0      happy           carefree     satisfied      ...           0.0   \n",
       "1    anxious           tense    fearful  sad     fe...           3.0   \n",
       "2    anxious      worried      scared     sad   mon...           7.0   \n",
       "3    anxious     concerned      tense scared       ...           3.0   \n",
       "4         concerned      tense      sad      tired ...           4.0   \n",
       "..                                                 ...           ...   \n",
       "957  anxious            scared  uneasy fearful     ...           9.0   \n",
       "958     nervous   worried             stress  anxie...           7.0   \n",
       "959          stressed    scared   fearful      anxi...           7.0   \n",
       "960  anxious      worried  stressed      uneasy    ...           8.0   \n",
       "961     nervous        tense   uneasy     stress  a...           7.0   \n",
       "\n",
       "    minidep_diagnose depression_episodes miniGAD_scale miniGAD_symptoms_scale  \\\n",
       "0                  0                   0             0                      0   \n",
       "1                  0                   0             8                      5   \n",
       "2                  0                   5             9                      5   \n",
       "3                  0                   5             8                      5   \n",
       "4                  0                   2             7                      4   \n",
       "..               ...                 ...           ...                    ...   \n",
       "957                1                   1             0                      0   \n",
       "958                1                   7            11                      6   \n",
       "959                1                   2            10                      5   \n",
       "960                1                   1            11                      6   \n",
       "961                0                   3             9                      6   \n",
       "\n",
       "    miniGAD_diagnose minidiagnose_category  minidiagnose_category_number  \n",
       "0                  0                  NoDi                             0  \n",
       "1                  0                  NoDi                             0  \n",
       "2                  0                  NoDi                             0  \n",
       "3                  0                  NoDi                             0  \n",
       "4                  1                   GAD                             2  \n",
       "..               ...                   ...                           ...  \n",
       "957                0                   Dep                             1  \n",
       "958                1                  BOTH                             3  \n",
       "959                1                  BOTH                             3  \n",
       "960                1                  BOTH                             3  \n",
       "961                1                   GAD                             2  \n",
       "\n",
       "[952 rows x 407 columns]"
      ]
     },
     "execution_count": 2,
     "metadata": {},
     "output_type": "execute_result"
    }
   ],
   "source": [
    "def get_responses_data():\n",
    "    \n",
    "    #Get relative directory to find path\n",
    "    path = os.path.join(os.getcwd(), 'data', 'response_format_cleaned_ds1.csv')\n",
    "    responses = pd.read_csv(path, sep=';', header=0)\n",
    "    responses.drop(responses.columns[[0]], axis=1, inplace=True)\n",
    "    \n",
    "    #Drop rows with NA values \n",
    "    responses = responses[~responses.wor_all_words.str.contains(\"NA NA NA NA NA\")]\n",
    "    responses = responses[~responses.wor_all_phraces.str.contains(\"NA NA NA NA NA\")]\n",
    "    responses = responses[~responses.dep_all_phraces.str.contains(\"NA NA NA NA NA\")]\n",
    "    responses = responses[~responses.dep_all_words.str.contains(\"NA NA NA NA NA\")]\n",
    "    responses = responses.reset_index(drop=True)\n",
    "    responses.dropna(subset=['Wortext'], inplace=True)\n",
    "    responses.dropna(subset=['Deptext'], inplace=True)\n",
    "    return responses\n",
    "\n",
    "get_responses_data()"
   ]
  },
  {
   "cell_type": "markdown",
   "id": "defined-surge",
   "metadata": {},
   "source": [
    "### LSA"
   ]
  },
  {
   "cell_type": "code",
   "execution_count": 3,
   "id": "vietnamese-example",
   "metadata": {},
   "outputs": [],
   "source": [
    "import nltk\n",
    "from nltk.tokenize import word_tokenize\n",
    "from nltk.corpus import stopwords\n",
    "from nltk.stem import WordNetLemmatizer \n",
    "\n",
    "\n",
    "def get_co_matrix():\n",
    "    \"\"\"\n",
    "    Using 5-gram contexts from the database, a co-occurrence (word by word) matrix was set up, \n",
    "    where the rows contained the 120,000 most common words in the n-gram database and the columns \n",
    "    consisted of the 10,000 most common words in the n-gram database.\n",
    "\n",
    "    The variable 'space' is a matrix of the semantic space with dimentions reduced to 512.\n",
    "    \"\"\"\n",
    "    path = os.path.join(os.getcwd(), 'data', 'spaceEnglish1.csv')\n",
    "    space = pd.read_csv(path, encoding= 'unicode_escape')\n",
    "    space.set_index('words', inplace=True)\n",
    "    space.drop(space.columns[[0]], axis=1, inplace=True)\n",
    "    space.dropna(inplace=True)\n",
    "    space = space[~space.index.duplicated(keep='first')]\n",
    "    return space\n",
    "\n",
    "\"\"\"\n",
    "Cleans the string from punctuations and removes all words which are not represented in the semantic space. \n",
    "\"\"\"\n",
    "\n",
    "space=get_co_matrix() \n",
    "words_in_space = set(space.index.values)\n",
    "STOP_WORDS = set(stopwords.words('english'))\n",
    "lemmatizer = WordNetLemmatizer()\n",
    "\n",
    "def clean_text(text):\n",
    "    if isinstance(text, str):\n",
    "        try:\n",
    "            tokens = word_tokenize(text)\n",
    "            words = [lemmatizer.lemmatize(w.lower()) for w in tokens if w.isalpha()]\n",
    "            words = [w for w in words if not w in STOP_WORDS]\n",
    "            cleaned_words = [w for w in words if w in words_in_space]  \n",
    "            return cleaned_words\n",
    "        except Exception as e: \n",
    "            print(e)\n",
    "    elif math.isnan(text):\n",
    "        return []\n",
    "\n"
   ]
  },
  {
   "cell_type": "code",
   "execution_count": 4,
   "id": "arbitrary-haven",
   "metadata": {},
   "outputs": [],
   "source": [
    "\"\"\"\n",
    "Controlling for artifacts relating to frequently occurring words.\n",
    "\n",
    "1) Calculate, from Google N-gram, a frequency weighted average of all semantic representations in the space.\n",
    "   (So that the weighting is proportional to how frequently the words occur in Google N-gram.)\n",
    "2) Subtract this mean prior to aggregating each word, and then add to the final value.\n",
    "\"\"\"\n",
    "\n",
    "space_mean = pd.Series.to_numpy(space.mean())\n",
    "\n",
    "def aggregating_words(responses):\n",
    "    res_arr = np.zeros(512)\n",
    "    \n",
    "    for word in responses:\n",
    "        word_arr = pd.Series.to_numpy(space.loc[word])\n",
    "        res_arr = res_arr + (word_arr - space_mean)\n",
    "    \n",
    "    res_arr += space_mean    \n",
    "    res_arr = res_arr / res_arr.sum() # Normalizing aggregated vector\n",
    "    return res_arr"
   ]
  },
  {
   "cell_type": "code",
   "execution_count": 5,
   "id": "instrumental-sharing",
   "metadata": {},
   "outputs": [],
   "source": [
    "def aggregate_cell(text):\n",
    "    words_in_cell = pd.Series.apply(text, clean_text)\n",
    "    cell_vectors = pd.Series.apply(words_in_cell, aggregating_words)\n",
    "    return cell_vectors\n",
    "\n",
    "\n",
    "def concat_vectors(row):\n",
    "    return np.concatenate(row.values).ravel()\n"
   ]
  },
  {
   "cell_type": "code",
   "execution_count": 6,
   "id": "patent-hurricane",
   "metadata": {},
   "outputs": [],
   "source": [
    "def get_x_lsa_dep():\n",
    "    responses=get_responses_data()\n",
    "    dep_columns = ['Deptext', 'dep_all_phraces', 'dep_all_words', 'dep_all_selected1']\n",
    "    df_dep_responses = responses[dep_columns]\n",
    "    df_dep_aggregated = df_dep_responses.apply(aggregate_cell, axis=1)\n",
    "    x_dep_lsa=pd.DataFrame(list(df_dep_aggregated.apply(concat_vectors, axis=1)))\n",
    "    return x_dep_lsa\n"
   ]
  },
  {
   "cell_type": "code",
   "execution_count": 7,
   "id": "union-plaza",
   "metadata": {},
   "outputs": [],
   "source": [
    "def get_x_lsa_wor():\n",
    "    responses=get_responses_data()\n",
    "    wor_columns = ['Wortext', 'wor_all_phraces', 'wor_all_words', 'wor_all_selected1']\n",
    "    df_wor_responses = responses[wor_columns]\n",
    "    df_wor_aggregated = df_wor_responses.apply(aggregate_cell, axis=1)\n",
    "    x_wor_lsa=pd.DataFrame(list(df_wor_aggregated.apply(concat_vectors, axis=1)))\n",
    "    return x_wor_lsa"
   ]
  },
  {
   "cell_type": "markdown",
   "id": "sufficient-celebration",
   "metadata": {},
   "source": [
    "### The categorical variable, whether someone is diagnosed with dep/worry or not"
   ]
  },
  {
   "cell_type": "code",
   "execution_count": 84,
   "id": "facial-silicon",
   "metadata": {},
   "outputs": [],
   "source": [
    "def get_binary_y(responses):\n",
    "    dep_diag = responses[['minidep_diagnose']]\n",
    "    wor_diag = responses[['miniGAD_diagnose']]\n",
    "    \n",
    "    #Checking for NaN values\n",
    "    dep_diag.isnull().values.any() #false\n",
    "    wor_diag.isnull().values.any() #false\n",
    "\n",
    "    #Create y - variables\n",
    "    y_wor_diag = wor_diag.values\n",
    "    y_dep_diag = dep_diag.values\n",
    "    return y_dep_diag, y_wor_diag"
   ]
  },
  {
   "cell_type": "markdown",
   "id": "raised-modern",
   "metadata": {},
   "source": [
    "## Logistic regression "
   ]
  },
  {
   "cell_type": "markdown",
   "id": "recovered-update",
   "metadata": {},
   "source": [
    "Get data"
   ]
  },
  {
   "cell_type": "code",
   "execution_count": 85,
   "id": "packed-foundation",
   "metadata": {},
   "outputs": [
    {
     "name": "stdout",
     "output_type": "stream",
     "text": [
      "Respondents with depression diagnose: 320 out of 952\n",
      "Respondents with worry/anxiety diagnose: 493 out of 952\n"
     ]
    }
   ],
   "source": [
    "responses=get_responses_data()\n",
    "\n",
    "#Depression data\n",
    "X_dep_lsa=get_x_lsa_dep()\n",
    "y_dep = get_binary_y(responses)[0]\n",
    "#Worry data\n",
    "X_wor_lsa=get_x_lsa_wor()\n",
    "y_wor = get_binary_y(responses)[1]\n",
    "\n",
    "print(\"Respondents with depression diagnose: {} out of {}\".format(int(y_dep.sum()), len(y_dep))) #unbalanced\n",
    "print(\"Respondents with worry/anxiety diagnose: {} out of {}\".format(int(y_wor.sum()), len(y_wor))) #not as unbalanced"
   ]
  },
  {
   "cell_type": "markdown",
   "id": "enormous-oxford",
   "metadata": {},
   "source": [
    "Split data into training and test data"
   ]
  },
  {
   "cell_type": "code",
   "execution_count": 10,
   "id": "certain-extreme",
   "metadata": {},
   "outputs": [],
   "source": [
    "from sklearn import preprocessing\n",
    "from sklearn.preprocessing import Normalizer\n",
    "from sklearn.model_selection import train_test_split\n",
    "from sklearn.linear_model import LogisticRegression, LogisticRegressionCV\n",
    "from sklearn.model_selection import train_test_split,GridSearchCV, cross_val_score\n",
    "from sklearn.metrics import confusion_matrix, matthews_corrcoef, classification_report, accuracy_score, balanced_accuracy_score\n",
    "from sklearn import metrics\n",
    "from sklearn.pipeline import Pipeline, make_pipeline\n",
    "\n",
    "\n",
    "def split_train_test(X, y, test_size=0.2):\n",
    "    X_train, X_test, y_train, y_test = train_test_split(X, y,test_size=test_size, stratify=y)\n",
    "    \n",
    "    #normalize test and train data separately \n",
    "    X_train=preprocessing.normalize(X_train, norm='l2')\n",
    "    X_test=preprocessing.normalize(X_test, norm='l2')\n",
    "    \n",
    "    y_test=y_test.ravel() \n",
    "    y_train=y_train.ravel()\n",
    "    return X_train, X_test, y_train, y_test"
   ]
  },
  {
   "cell_type": "code",
   "execution_count": 14,
   "id": "humanitarian-statement",
   "metadata": {},
   "outputs": [],
   "source": [
    "def get_eval(y_test,y_pred):\n",
    "    acc=metrics.accuracy_score(y_test, y_pred )\n",
    "    mcc=metrics.matthews_corrcoef(y_test, y_pred)\n",
    "    bal_acc=balanced_accuracy_score(y_test, y_pred)\n",
    "    #cm=confusion_matrix(y_test,y_pred)\n",
    "    cm=pd.crosstab(y_test, y_pred, margins=True, rownames=['Actual'], colnames=['Predicted'])\n",
    "    cr = classification_report(y_test,y_pred)\n",
    "    return acc, mcc, bal_acc, cm, cr\n"
   ]
  },
  {
   "cell_type": "markdown",
   "id": "stable-schema",
   "metadata": {},
   "source": [
    "#### Baseline predictions"
   ]
  },
  {
   "cell_type": "code",
   "execution_count": 16,
   "id": "light-bookmark",
   "metadata": {
    "scrolled": true
   },
   "outputs": [
    {
     "name": "stdout",
     "output_type": "stream",
     "text": [
      "              precision    recall  f1-score   support\n",
      "\n",
      "           0       0.68      0.91      0.78       127\n",
      "           1       0.45      0.16      0.23        64\n",
      "\n",
      "    accuracy                           0.65       191\n",
      "   macro avg       0.57      0.53      0.50       191\n",
      "weighted avg       0.60      0.65      0.59       191\n",
      "\n"
     ]
    }
   ],
   "source": [
    "#Depression\n",
    "X_train_dep, X_test_dep, y_train_dep, y_test_dep= split_train_test(X_dep_lsa, y_dep)\n",
    "#use log to predict. \n",
    "model = LogisticRegression()\n",
    "model.fit(X_train_dep, y_train_dep)\n",
    "y_pred_dep = model.predict(X_test_dep)\n",
    "acc_dep, mcc_dep, bal_acc_dep, cm_dep, cr_dep= get_eval(y_test_dep, y_pred_dep)\n",
    "print(cr_dep)"
   ]
  },
  {
   "cell_type": "code",
   "execution_count": 17,
   "id": "ranging-information",
   "metadata": {},
   "outputs": [
    {
     "name": "stdout",
     "output_type": "stream",
     "text": [
      "              precision    recall  f1-score   support\n",
      "\n",
      "           0       0.51      0.34      0.41        92\n",
      "           1       0.53      0.70      0.60        99\n",
      "\n",
      "    accuracy                           0.52       191\n",
      "   macro avg       0.52      0.52      0.50       191\n",
      "weighted avg       0.52      0.52      0.51       191\n",
      "\n"
     ]
    }
   ],
   "source": [
    "#Worry \n",
    "X_train_wor, X_test_wor, y_train_wor, y_test_wor= split_train_test(X_wor_lsa, y_wor)\n",
    "model = LogisticRegression()\n",
    "model.fit(X_train_wor, y_train_wor)\n",
    "y_pred_wor = model.predict(X_test_wor)\n",
    "acc_wor, mcc_wor, bal_acc_wor, cm_wor, cr_wor= get_eval(y_test_wor, y_pred_wor)\n",
    "print(cr_wor)"
   ]
  },
  {
   "cell_type": "markdown",
   "id": "emotional-grade",
   "metadata": {},
   "source": [
    "Using dummy classifier to make prediction"
   ]
  },
  {
   "cell_type": "code",
   "execution_count": 87,
   "id": "biblical-collaboration",
   "metadata": {},
   "outputs": [],
   "source": [
    "from sklearn.dummy import DummyClassifier"
   ]
  },
  {
   "cell_type": "code",
   "execution_count": 100,
   "id": "native-highlight",
   "metadata": {},
   "outputs": [
    {
     "name": "stdout",
     "output_type": "stream",
     "text": [
      "Predicted    0   1  All\n",
      "Actual                 \n",
      "0           83  44  127\n",
      "1           46  18   64\n",
      "All        129  62  191\n",
      "              precision    recall  f1-score   support\n",
      "\n",
      "           0       0.64      0.65      0.65       127\n",
      "           1       0.29      0.28      0.29        64\n",
      "\n",
      "    accuracy                           0.53       191\n",
      "   macro avg       0.47      0.47      0.47       191\n",
      "weighted avg       0.53      0.53      0.53       191\n",
      "\n"
     ]
    }
   ],
   "source": [
    "#Stratified generates random predictions by respecting the training set class distribution.\n",
    "dummy_model= DummyClassifier(strategy='stratified', random_state=0)\n",
    "#Depression\n",
    "X_train_dep, X_test_dep, y_train_dep, y_test_dep= split_train_test(X_dep_lsa, y_dep)\n",
    "dummy_model.fit(X_train_dep, y_train_dep)\n",
    "y_pred_dep=dummy_model.predict(X_test_dep) \n",
    "acc_dep, mcc_dep, bal_acc_dep, cm_dep, cr_dep= get_eval(y_test_dep, y_pred_dep)\n",
    "print(cm_dep)\n",
    "print(cr_dep)"
   ]
  },
  {
   "cell_type": "code",
   "execution_count": 98,
   "id": "guilty-programmer",
   "metadata": {},
   "outputs": [
    {
     "name": "stdout",
     "output_type": "stream",
     "text": [
      "Predicted    0   1  All\n",
      "Actual                 \n",
      "0           50  42   92\n",
      "1           53  46   99\n",
      "All        103  88  191\n",
      "              precision    recall  f1-score   support\n",
      "\n",
      "           0       0.49      0.54      0.51        92\n",
      "           1       0.52      0.46      0.49        99\n",
      "\n",
      "    accuracy                           0.50       191\n",
      "   macro avg       0.50      0.50      0.50       191\n",
      "weighted avg       0.50      0.50      0.50       191\n",
      "\n"
     ]
    }
   ],
   "source": [
    "#Stratified generates random predictions by respecting the training set class distribution.\n",
    "dummy_model= DummyClassifier(strategy='stratified', random_state=0)\n",
    "#Worry\n",
    "X_train_wor, X_test_wor, y_train_wor, y_test_wor= split_train_test(X_wor_lsa, y_wor)\n",
    "dummy_model.fit(X_train_wor, y_train_wor)\n",
    "y_pred_wor=dummy_model.predict(X_test_wor)\n",
    "acc_wor, mcc_wor, bal_acc_wor, cm_wor, cr_wor= get_eval(y_test_wor, y_pred_wor)\n",
    "print(cm_wor)\n",
    "print(cr_wor)"
   ]
  },
  {
   "cell_type": "markdown",
   "id": "accessible-reference",
   "metadata": {},
   "source": [
    "### Dimension reduction - PCA"
   ]
  },
  {
   "cell_type": "code",
   "execution_count": 20,
   "id": "loving-arrival",
   "metadata": {},
   "outputs": [],
   "source": [
    "import matplotlib.pyplot as plt\n",
    "from sklearn.model_selection import cross_val_score\n",
    "from numpy import mean\n",
    "from sklearn.decomposition import PCA\n",
    "from matplotlib import pyplot\n",
    "from sklearn.metrics import f1_score\n",
    "from sklearn.decomposition import PCA\n",
    "from sklearn.preprocessing import StandardScaler"
   ]
  },
  {
   "cell_type": "markdown",
   "id": "advance-mixer",
   "metadata": {},
   "source": [
    "#### Analysing number of components to use for PCA"
   ]
  },
  {
   "cell_type": "code",
   "execution_count": 57,
   "id": "becoming-launch",
   "metadata": {},
   "outputs": [],
   "source": [
    "def get_scores(model, X, y):\n",
    "    score = np.mean(cross_val_score(model, X, y, n_jobs=-1, scoring='f1')) \n",
    "    return score\n",
    "\n",
    "def get_nbr_components_pca(X, y, start=1, stop=300):\n",
    "    pca_scores=[]\n",
    "    models = dict()\n",
    "    start, stop=start, stop\n",
    "    X_train, X_test, y_train, y_test= split_train_test(X, y)\n",
    "    for i in range(start,stop): \n",
    "        model=make_pipeline(PCA(n_components=i), LogisticRegression())\n",
    "        score = get_scores(model, X_train, y_train)\n",
    "        pca_scores.append(score)\n",
    "    n_components_pca=np.argmax(pca_scores)+1+start\n",
    "    print(start) #todelete\n",
    "    print(np.argmax(pca_scores)) #todelete \n",
    "    return pca_scores, n_components_pca\n",
    "\n",
    "\n",
    "def plot_nbr_components_pca(pca_scores, start, stop):\n",
    "    if len(pca_scores)>0:\n",
    "        n=np.arange(start, stop, step=1, dtype=int)\n",
    "        plt.figure()\n",
    "        plt.plot(n, pca_scores)\n",
    "        plt.xlabel(\"Number of components\")\n",
    "        plt.ylabel(\"PCA score\")\n",
    "        plt.show()\n",
    "\n"
   ]
  },
  {
   "cell_type": "code",
   "execution_count": 50,
   "id": "unknown-exception",
   "metadata": {},
   "outputs": [
    {
     "data": {
      "image/png": "[encoded data removed]",
      "text/plain": [
       "<Figure size 432x288 with 1 Axes>"
      ]
     },
     "metadata": {
      "needs_background": "light"
     },
     "output_type": "display_data"
    },
    {
     "name": "stdout",
     "output_type": "stream",
     "text": [
      "Nbr of components to use for PCA dimension reduction on dep. dataset:  96\n"
     ]
    }
   ],
   "source": [
    "start, stop=1,300\n",
    "pca_scores_dep, nbr_components_dep= get_nbr_components_pca(X_dep_lsa, y_dep, start, stop)\n",
    "plot_nbr_components_pca(pca_scores_dep, start, stop)\n",
    "print(\"Nbr of components to use for PCA dimension reduction on dep. dataset: \", nbr_components_dep)\n",
    "#with f1-scoring: [96, 198, 266]. With accuracy scoring: #3 #50 #199#14 #4"
   ]
  },
  {
   "cell_type": "code",
   "execution_count": 101,
   "id": "satellite-tourism",
   "metadata": {},
   "outputs": [
    {
     "name": "stdout",
     "output_type": "stream",
     "text": [
      "1\n",
      "5\n"
     ]
    },
    {
     "data": {
      "image/png": "[encoded data removed]",
      "text/plain": [
       "<Figure size 432x288 with 1 Axes>"
      ]
     },
     "metadata": {
      "needs_background": "light"
     },
     "output_type": "display_data"
    },
    {
     "name": "stdout",
     "output_type": "stream",
     "text": [
      "Nbr of components to use for PCA dim. reduc. on worry dataset:  7\n"
     ]
    }
   ],
   "source": [
    "start, stop=1, 300\n",
    "pca_scores_wor, nbr_components_wor=get_nbr_components_pca(X_wor_lsa, y_wor, start, stop)\n",
    "plot_nbr_components_pca(pca_scores_wor, start, stop)\n",
    "print(\"Nbr of components to use for PCA dim. reduc. on worry dataset: \", nbr_components_wor)\n",
    "#with f1-scoring: 8 #296 "
   ]
  },
  {
   "cell_type": "markdown",
   "id": "leading-sperm",
   "metadata": {},
   "source": [
    "#### Analysing number of components to use for PCA using GridSearchCV"
   ]
  },
  {
   "cell_type": "markdown",
   "id": "involved-jurisdiction",
   "metadata": {},
   "source": [
    "Depression"
   ]
  },
  {
   "cell_type": "code",
   "execution_count": 63,
   "id": "cardiovascular-shore",
   "metadata": {},
   "outputs": [
    {
     "name": "stderr",
     "output_type": "stream",
     "text": [
      "/Users/alexandraantgren/opt/anaconda3/envs/ml2/lib/python3.6/site-packages/sklearn/linear_model/_logistic.py:765: ConvergenceWarning: lbfgs failed to converge (status=1):\n",
      "STOP: TOTAL NO. of ITERATIONS REACHED LIMIT.\n",
      "\n",
      "Increase the number of iterations (max_iter) or scale the data as shown in:\n",
      "    https://scikit-learn.org/stable/modules/preprocessing.html\n",
      "Please also refer to the documentation for alternative solver options:\n",
      "    https://scikit-learn.org/stable/modules/linear_model.html#logistic-regression\n",
      "  extra_warning_msg=_LOGISTIC_SOLVER_CONVERGENCE_MSG)\n"
     ]
    },
    {
     "data": {
      "text/plain": [
       "'\\nparams=grid_searcher.best_params_\\nprint(\"Best parameters: {} \".format(params))\\n\\n#identifies the best estimator from the combination of parameter values\\nestimator = grid_searcher.best_estimator_\\ny_pred = estimator.predict(X_test)\\nprint(estimator)\\nprint(y_pred)\\n\\n#evaluate result\\nacc, mcc, bal_acc, cm, cr= get_eval(y_test, y_pred)\\nprint(cr)\\n\\n\\n#c=0.0001, n_components=3, accuracy=68.367% #127 c=10000.0 n=3  #3 #0.001 66.49 % \\n#198, c:1\\n#c=20, n=266 #c=35, n=300, '"
      ]
     },
     "execution_count": 63,
     "metadata": {},
     "output_type": "execute_result"
    }
   ],
   "source": [
    "pipe = Pipeline(steps=[('scaler', StandardScaler()), ('pca', PCA()), ('model', LogisticRegression())])\n",
    "\n",
    "#Define a set of possible values to try for the given model\n",
    "param_grid = {\n",
    "    'pca__n_components': np.arange(start=1, stop=300, step=1, dtype=int) #[3,4,5,16, 96, 199, 198, 266, 300],\n",
    "    'model__C': [0.0001, 0.001,0.01, 0.1, 1, 10,100, 1000] \n",
    "}\n",
    "\n",
    "grid_searcher = GridSearchCV(pipe, param_grid, n_jobs=-1, scoring='f1') \n",
    "X_train, X_test, y_train, y_test = split_train_test(X_dep_lsa, y_dep)\n",
    "grid_searcher.fit(X_train, y_train)\n"
   ]
  },
  {
   "cell_type": "code",
   "execution_count": 64,
   "id": "injured-printer",
   "metadata": {},
   "outputs": [
    {
     "name": "stdout",
     "output_type": "stream",
     "text": [
      "Best parameters: {'model__C': 1, 'pca__n_components': 300} \n",
      "Pipeline(steps=[('scaler', StandardScaler()), ('pca', PCA(n_components=300)),\n",
      "                ('model', LogisticRegression(C=1))])\n",
      "[0 0 0 0 0 0 1 0 0 0 0 0 1 1 0 0 1 0 0 0 0 0 1 0 1 0 0 0 0 0 1 0 1 0 0 0 1\n",
      " 0 0 1 0 1 0 0 1 1 1 1 0 0 0 0 0 1 0 0 1 1 0 1 0 1 0 1 0 1 0 1 1 0 0 1 0 0\n",
      " 0 0 0 1 1 1 0 1 0 1 0 0 0 0 0 1 0 1 0 0 1 0 0 0 0 0 1 0 0 0 0 0 0 0 1 0 0\n",
      " 0 0 1 1 1 1 0 0 0 0 1 1 0 0 0 0 1 0 1 0 1 0 1 0 1 0 0 1 0 0 1 0 0 0 0 0 1\n",
      " 0 1 0 1 0 0 1 1 0 0 0 1 0 0 0 1 0 0 1 0 0 0 1 1 0 0 0 0 0 0 1 0 0 0 1 1 1\n",
      " 1 0 1 1 1 0]\n",
      "              precision    recall  f1-score   support\n",
      "\n",
      "           0       0.72      0.71      0.71       127\n",
      "           1       0.44      0.45      0.45        64\n",
      "\n",
      "    accuracy                           0.62       191\n",
      "   macro avg       0.58      0.58      0.58       191\n",
      "weighted avg       0.63      0.62      0.62       191\n",
      "\n"
     ]
    }
   ],
   "source": [
    "#identifies the best estimator from the combination of parameter values\n",
    "estimator = grid_searcher.best_estimator_\n",
    "y_pred = estimator.predict(X_test)\n",
    "print(estimator)\n",
    "\n",
    "#evaluate result\n",
    "acc, mcc, bal_acc, cm, cr= get_eval(y_test, y_pred)\n",
    "print(cr)\n",
    "\n",
    "#c=0.0001, n_components=3, #127 c=10000.0, c=0.001 n=3 \n",
    "#198, c:1 #c=20, n=266 #c=35, n=300\n",
    "#With f1: c=1, n=300"
   ]
  },
  {
   "cell_type": "markdown",
   "id": "abandoned-export",
   "metadata": {},
   "source": [
    "Worry"
   ]
  },
  {
   "cell_type": "code",
   "execution_count": 67,
   "id": "completed-joining",
   "metadata": {},
   "outputs": [
    {
     "data": {
      "text/plain": [
       "GridSearchCV(estimator=Pipeline(steps=[('scaler', StandardScaler()),\n",
       "                                       ('pca', PCA()),\n",
       "                                       ('model', LogisticRegression())]),\n",
       "             n_jobs=-1,\n",
       "             param_grid={'model__C': [0.0001, 0.001, 0.01, 0.1, 1, 10, 100,\n",
       "                                      1000],\n",
       "                         'pca__n_components': [3, 4, 5, 16, 96, 199, 198, 266,\n",
       "                                               300]},\n",
       "             scoring='f1')"
      ]
     },
     "execution_count": 67,
     "metadata": {},
     "output_type": "execute_result"
    }
   ],
   "source": [
    "pipe = Pipeline(steps=[('scaler', StandardScaler()), ('pca', PCA()), ('model', LogisticRegression())])\n",
    "\n",
    "#Define a set of possible values to try for the given model\n",
    "param_grid = {\n",
    "    'pca__n_components': [3,4,5,16, 96, 199, 198, 266, 300], #np.arange(start=1, stop=300, step=1, dtype=int)\n",
    "    'model__C': [0.0001, 0.001,0.01, 0.1, 1, 10,100, 1000] \n",
    "}\n",
    "\n",
    "grid_searcher = GridSearchCV(pipe, param_grid, n_jobs=-1, scoring='f1') \n",
    "X_train, X_test, y_train, y_test = split_train_test(X_wor_lsa, y_wor)\n",
    "grid_searcher.fit(X_train, y_train)"
   ]
  },
  {
   "cell_type": "code",
   "execution_count": 68,
   "id": "hungry-gardening",
   "metadata": {},
   "outputs": [
    {
     "name": "stdout",
     "output_type": "stream",
     "text": [
      "Pipeline(steps=[('scaler', StandardScaler()), ('pca', PCA(n_components=16)),\n",
      "                ('model', LogisticRegression(C=0.0001))])\n",
      "[1 1 0 1 1 0 1 1 0 0 1 1 1 1 1 1 1 1 0 1 1 1 0 1 0 1 1 1 0 1 1 1 1 0 1 1 0\n",
      " 0 1 1 1 1 1 1 0 0 1 1 1 1 0 1 1 1 1 1 1 0 1 0 1 1 0 0 1 1 1 1 1 1 1 0 1 1\n",
      " 1 0 0 1 1 1 1 1 1 1 1 1 1 0 1 1 1 1 0 1 1 0 1 1 1 1 1 1 1 1 0 1 1 1 1 1 1\n",
      " 1 0 1 1 1 1 1 1 0 1 1 0 1 1 1 0 0 1 1 1 1 1 1 0 1 1 0 1 1 1 1 1 1 0 1 1 1\n",
      " 1 0 1 0 1 1 0 1 0 1 0 1 1 1 1 1 1 1 1 1 1 1 1 0 1 1 0 1 1 1 1 1 1 1 1 1 1\n",
      " 1 1 1 1 1 1]\n",
      "              precision    recall  f1-score   support\n",
      "\n",
      "           0       0.75      0.33      0.45        92\n",
      "           1       0.59      0.90      0.71        99\n",
      "\n",
      "    accuracy                           0.62       191\n",
      "   macro avg       0.67      0.61      0.58       191\n",
      "weighted avg       0.67      0.62      0.59       191\n",
      "\n"
     ]
    }
   ],
   "source": [
    "#identifies the best estimator from the combination of parameter values\n",
    "estimator = grid_searcher.best_estimator_\n",
    "y_pred = estimator.predict(X_test)\n",
    "print(estimator)\n",
    "\n",
    "#evaluate result\n",
    "acc, mcc, bal_acc, cm, cr= get_eval(y_test, y_pred)\n",
    "print(cr)\n",
    "#n=16, c=0.0001\n"
   ]
  },
  {
   "cell_type": "markdown",
   "id": "developmental-prairie",
   "metadata": {},
   "source": [
    "# Dimension reduction using UMAP"
   ]
  },
  {
   "cell_type": "code",
   "execution_count": 70,
   "id": "reasonable-martin",
   "metadata": {},
   "outputs": [],
   "source": [
    "import umap"
   ]
  },
  {
   "cell_type": "code",
   "execution_count": 78,
   "id": "cognitive-chemical",
   "metadata": {},
   "outputs": [
    {
     "data": {
      "text/plain": [
       "GridSearchCV(estimator=Pipeline(steps=[('scaler', StandardScaler()),\n",
       "                                       ('pca', PCA(n_components=16)),\n",
       "                                       ('umap',\n",
       "                                        UMAP(dens_frac=0.0, dens_lambda=0.0)),\n",
       "                                       ('model',\n",
       "                                        LogisticRegression(C=0.0001))]),\n",
       "             n_jobs=-1,\n",
       "             param_grid={'umap__n_components': [3, 4, 5],\n",
       "                         'umap__n_neighbors': [2, 3, 4, 5]},\n",
       "             scoring='f1')"
      ]
     },
     "execution_count": 78,
     "metadata": {},
     "output_type": "execute_result"
    }
   ],
   "source": [
    "#Analysing parameters to use for UMAP pipeline with GridSearchCV\n",
    "#question: add random state to umap?\n",
    "#question: pca before umap?\n",
    "\n",
    "#C=0.0001, PCA=16 \n",
    "pipe = Pipeline(steps=[('scaler', StandardScaler()), ('pca', PCA(n_components=16)), ('umap', umap.UMAP()), ('model', LogisticRegression(C=0.0001))])\n",
    "#define a set of possible values to try for the given model\n",
    "param_grid = {\n",
    "    'umap__n_neighbors': [2,3,4, 5], #[2,3,4,5], #2, 5, 10, 20, 50, 100, 200\n",
    "    'umap__n_components': [3,4,5] #[150] [200], [250] [100] [96] ,\n",
    "    #'umap__min_dist': [0.1,0.2,0.4,0.5,0.6,0.7,0.8,0.9], ##can range from 0.0 through to 0.99.\n",
    "    #'model__C': [0.0001, 0.001, 0.1, 1, 10, 15, 20], #[10 ** k for k in range(-3, 4)],\n",
    "}\n",
    "\n",
    "grid_searcher = GridSearchCV(pipe, param_grid, n_jobs=-1, scoring='f1')\n",
    "X_train, X_test, y_train, y_test= split_train_test(X_dep_lsa, y_dep)\n",
    "grid_searcher.fit(X_train, y_train)"
   ]
  },
  {
   "cell_type": "code",
   "execution_count": 82,
   "id": "bridal-migration",
   "metadata": {},
   "outputs": [
    {
     "name": "stdout",
     "output_type": "stream",
     "text": [
      "Pipeline(steps=[('scaler', StandardScaler()), ('pca', PCA(n_components=16)),\n",
      "                ('umap',\n",
      "                 UMAP(dens_frac=0.0, dens_lambda=0.0, n_components=4,\n",
      "                      n_neighbors=5)),\n",
      "                ('model', LogisticRegression(C=0.0001))])\n",
      "              precision    recall  f1-score   support\n",
      "\n",
      "           0       0.74      0.85      0.79       127\n",
      "           1       0.59      0.42      0.49        64\n",
      "\n",
      "    accuracy                           0.71       191\n",
      "   macro avg       0.67      0.64      0.64       191\n",
      "weighted avg       0.69      0.71      0.69       191\n",
      "\n"
     ]
    }
   ],
   "source": [
    "#identifies the best estimator from the combination of parameter values\n",
    "estimator = grid_searcher.best_estimator_\n",
    "print(estimator)\n",
    "y_pred = estimator.predict(X_test)#n_components=4, n_neighbors=5, \n",
    "acc, mcc, bal_acc, cm, cr= get_eval(y_test,y_pred)\n",
    "print(cr)\n",
    "print(mcc)"
   ]
  },
  {
   "cell_type": "markdown",
   "id": "rational-evanescence",
   "metadata": {},
   "source": [
    "## Evaluation on depression data "
   ]
  },
  {
   "cell_type": "code",
   "execution_count": 103,
   "id": "different-helen",
   "metadata": {},
   "outputs": [
    {
     "name": "stderr",
     "output_type": "stream",
     "text": [
      "/Users/alexandraantgren/opt/anaconda3/envs/ml2/lib/python3.6/site-packages/sklearn/linear_model/_logistic.py:765: ConvergenceWarning: lbfgs failed to converge (status=1):\n",
      "STOP: TOTAL NO. of ITERATIONS REACHED LIMIT.\n",
      "\n",
      "Increase the number of iterations (max_iter) or scale the data as shown in:\n",
      "    https://scikit-learn.org/stable/modules/preprocessing.html\n",
      "Please also refer to the documentation for alternative solver options:\n",
      "    https://scikit-learn.org/stable/modules/linear_model.html#logistic-regression\n",
      "  extra_warning_msg=_LOGISTIC_SOLVER_CONVERGENCE_MSG)\n"
     ]
    },
    {
     "name": "stdout",
     "output_type": "stream",
     "text": [
      "              precision    recall  f1-score   support\n",
      "\n",
      "           0       0.76      0.66      0.71       127\n",
      "           1       0.46      0.58      0.51        64\n",
      "\n",
      "    accuracy                           0.63       191\n",
      "   macro avg       0.61      0.62      0.61       191\n",
      "weighted avg       0.66      0.63      0.64       191\n",
      "\n"
     ]
    }
   ],
   "source": [
    "chosen_c_value= 1 #0.01 0.001  #35\n",
    "chosen_n_components= 96 #220#300 #199 # 14 #50 #3 #5 \n",
    "\n",
    "X_train, X_test, y_train, y_test= split_train_test(X_dep_lsa, y_dep)\n",
    "\n",
    "#normalize\n",
    "model = make_pipeline(StandardScaler(), umap.UMAP(n_neighbors=5,\n",
    "                      min_dist=0.3, n_components=chosen_n_components), LogisticRegression()) \n",
    "model.fit(X_train, y_train)\n",
    "y_pred = model.predict(X_test)\n",
    "acc, mcc, bal_acc, cm, cr= get_eval(y_test,y_pred)\n",
    "print(cr)\n"
   ]
  },
  {
   "cell_type": "markdown",
   "id": "sharing-leisure",
   "metadata": {},
   "source": [
    "### Evaluation on worry data"
   ]
  },
  {
   "cell_type": "code",
   "execution_count": null,
   "id": "worldwide-license",
   "metadata": {},
   "outputs": [],
   "source": []
  }
 ],
 "metadata": {
  "kernelspec": {
   "display_name": "Python 3",
   "language": "python",
   "name": "python3"
  }
 },
 "nbformat": 4,
 "nbformat_minor": 5
}
